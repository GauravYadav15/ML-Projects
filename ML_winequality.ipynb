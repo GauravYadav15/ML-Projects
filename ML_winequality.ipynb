{
  "nbformat": 4,
  "nbformat_minor": 0,
  "metadata": {
    "colab": {
      "name": "ML winequality.ipynb",
      "provenance": []
    },
    "kernelspec": {
      "name": "python3",
      "display_name": "Python 3"
    },
    "language_info": {
      "name": "python"
    }
  },
  "cells": [
    {
      "cell_type": "markdown",
      "metadata": {
        "id": "uxiCXoWjvUKR"
      },
      "source": [
        "###Model1 \n"
      ]
    },
    {
      "cell_type": "markdown",
      "metadata": {
        "id": "_1z_V8xDviwk"
      },
      "source": [
        "In our first model we are taking all 11 features to predict quality of our wine without considering correlations."
      ]
    },
    {
      "cell_type": "markdown",
      "metadata": {
        "id": "6htup361ZGLg"
      },
      "source": [
        "####importing data set"
      ]
    },
    {
      "cell_type": "code",
      "metadata": {
        "colab": {
          "base_uri": "https://localhost:8080/"
        },
        "id": "nkoBkhyzWVme",
        "outputId": "4cb53ce1-a769-4111-cead-a8567c1769bb"
      },
      "source": [
        "import numpy as np\n",
        "import matplotlib.pyplot as plt\n",
        "import seaborn as sns\n",
        "import pandas as pd \n",
        "df=pd.read_csv(\"/content/winequality-red.csv\")\n",
        "print(df)"
      ],
      "execution_count": null,
      "outputs": [
        {
          "output_type": "stream",
          "name": "stdout",
          "text": [
            "      fixed acidity  volatile acidity  citric acid  ...  sulphates  alcohol  quality\n",
            "0               7.4             0.700         0.00  ...       0.56      9.4        5\n",
            "1               7.8             0.880         0.00  ...       0.68      9.8        5\n",
            "2               7.8             0.760         0.04  ...       0.65      9.8        5\n",
            "3              11.2             0.280         0.56  ...       0.58      9.8        6\n",
            "4               7.4             0.700         0.00  ...       0.56      9.4        5\n",
            "...             ...               ...          ...  ...        ...      ...      ...\n",
            "1594            6.2             0.600         0.08  ...       0.58     10.5        5\n",
            "1595            5.9             0.550         0.10  ...       0.76     11.2        6\n",
            "1596            6.3             0.510         0.13  ...       0.75     11.0        6\n",
            "1597            5.9             0.645         0.12  ...       0.71     10.2        5\n",
            "1598            6.0             0.310         0.47  ...       0.66     11.0        6\n",
            "\n",
            "[1599 rows x 12 columns]\n"
          ]
        }
      ]
    },
    {
      "cell_type": "markdown",
      "metadata": {
        "id": "ZP1CPWnTa-e0"
      },
      "source": [
        "####info of data"
      ]
    },
    {
      "cell_type": "code",
      "metadata": {
        "colab": {
          "base_uri": "https://localhost:8080/"
        },
        "id": "YGaPa6Bwd5iA",
        "outputId": "51446878-b412-49f9-8853-48a32a9204a1"
      },
      "source": [
        "df.info()"
      ],
      "execution_count": null,
      "outputs": [
        {
          "output_type": "stream",
          "name": "stdout",
          "text": [
            "<class 'pandas.core.frame.DataFrame'>\n",
            "RangeIndex: 1599 entries, 0 to 1598\n",
            "Data columns (total 12 columns):\n",
            " #   Column                Non-Null Count  Dtype  \n",
            "---  ------                --------------  -----  \n",
            " 0   fixed acidity         1599 non-null   float64\n",
            " 1   volatile acidity      1599 non-null   float64\n",
            " 2   citric acid           1599 non-null   float64\n",
            " 3   residual sugar        1599 non-null   float64\n",
            " 4   chlorides             1599 non-null   float64\n",
            " 5   free sulfur dioxide   1599 non-null   float64\n",
            " 6   total sulfur dioxide  1599 non-null   float64\n",
            " 7   density               1599 non-null   float64\n",
            " 8   pH                    1599 non-null   float64\n",
            " 9   sulphates             1599 non-null   float64\n",
            " 10  alcohol               1599 non-null   float64\n",
            " 11  quality               1599 non-null   int64  \n",
            "dtypes: float64(11), int64(1)\n",
            "memory usage: 150.0 KB\n"
          ]
        }
      ]
    },
    {
      "cell_type": "markdown",
      "metadata": {
        "id": "sMcilu1Wa4-z"
      },
      "source": [
        "####statistical data of given dataset"
      ]
    },
    {
      "cell_type": "code",
      "metadata": {
        "colab": {
          "base_uri": "https://localhost:8080/",
          "height": 362
        },
        "id": "wZcmC-qKeAoF",
        "outputId": "12c917f1-939f-413a-bdc1-9d4616b2db91"
      },
      "source": [
        "df.describe()"
      ],
      "execution_count": null,
      "outputs": [
        {
          "output_type": "execute_result",
          "data": {
            "text/html": [
              "\n",
              "  <div id=\"df-550eafd3-3ffa-457e-af17-b1d80dd0d451\">\n",
              "    <div class=\"colab-df-container\">\n",
              "      <div>\n",
              "<style scoped>\n",
              "    .dataframe tbody tr th:only-of-type {\n",
              "        vertical-align: middle;\n",
              "    }\n",
              "\n",
              "    .dataframe tbody tr th {\n",
              "        vertical-align: top;\n",
              "    }\n",
              "\n",
              "    .dataframe thead th {\n",
              "        text-align: right;\n",
              "    }\n",
              "</style>\n",
              "<table border=\"1\" class=\"dataframe\">\n",
              "  <thead>\n",
              "    <tr style=\"text-align: right;\">\n",
              "      <th></th>\n",
              "      <th>fixed acidity</th>\n",
              "      <th>volatile acidity</th>\n",
              "      <th>citric acid</th>\n",
              "      <th>residual sugar</th>\n",
              "      <th>chlorides</th>\n",
              "      <th>free sulfur dioxide</th>\n",
              "      <th>total sulfur dioxide</th>\n",
              "      <th>density</th>\n",
              "      <th>pH</th>\n",
              "      <th>sulphates</th>\n",
              "      <th>alcohol</th>\n",
              "      <th>quality</th>\n",
              "    </tr>\n",
              "  </thead>\n",
              "  <tbody>\n",
              "    <tr>\n",
              "      <th>count</th>\n",
              "      <td>1599.000000</td>\n",
              "      <td>1599.000000</td>\n",
              "      <td>1599.000000</td>\n",
              "      <td>1599.000000</td>\n",
              "      <td>1599.000000</td>\n",
              "      <td>1599.000000</td>\n",
              "      <td>1599.000000</td>\n",
              "      <td>1599.000000</td>\n",
              "      <td>1599.000000</td>\n",
              "      <td>1599.000000</td>\n",
              "      <td>1599.000000</td>\n",
              "      <td>1599.000000</td>\n",
              "    </tr>\n",
              "    <tr>\n",
              "      <th>mean</th>\n",
              "      <td>8.319637</td>\n",
              "      <td>0.527821</td>\n",
              "      <td>0.270976</td>\n",
              "      <td>2.538806</td>\n",
              "      <td>0.087467</td>\n",
              "      <td>15.874922</td>\n",
              "      <td>46.467792</td>\n",
              "      <td>0.996747</td>\n",
              "      <td>3.311113</td>\n",
              "      <td>0.658149</td>\n",
              "      <td>10.422983</td>\n",
              "      <td>5.636023</td>\n",
              "    </tr>\n",
              "    <tr>\n",
              "      <th>std</th>\n",
              "      <td>1.741096</td>\n",
              "      <td>0.179060</td>\n",
              "      <td>0.194801</td>\n",
              "      <td>1.409928</td>\n",
              "      <td>0.047065</td>\n",
              "      <td>10.460157</td>\n",
              "      <td>32.895324</td>\n",
              "      <td>0.001887</td>\n",
              "      <td>0.154386</td>\n",
              "      <td>0.169507</td>\n",
              "      <td>1.065668</td>\n",
              "      <td>0.807569</td>\n",
              "    </tr>\n",
              "    <tr>\n",
              "      <th>min</th>\n",
              "      <td>4.600000</td>\n",
              "      <td>0.120000</td>\n",
              "      <td>0.000000</td>\n",
              "      <td>0.900000</td>\n",
              "      <td>0.012000</td>\n",
              "      <td>1.000000</td>\n",
              "      <td>6.000000</td>\n",
              "      <td>0.990070</td>\n",
              "      <td>2.740000</td>\n",
              "      <td>0.330000</td>\n",
              "      <td>8.400000</td>\n",
              "      <td>3.000000</td>\n",
              "    </tr>\n",
              "    <tr>\n",
              "      <th>25%</th>\n",
              "      <td>7.100000</td>\n",
              "      <td>0.390000</td>\n",
              "      <td>0.090000</td>\n",
              "      <td>1.900000</td>\n",
              "      <td>0.070000</td>\n",
              "      <td>7.000000</td>\n",
              "      <td>22.000000</td>\n",
              "      <td>0.995600</td>\n",
              "      <td>3.210000</td>\n",
              "      <td>0.550000</td>\n",
              "      <td>9.500000</td>\n",
              "      <td>5.000000</td>\n",
              "    </tr>\n",
              "    <tr>\n",
              "      <th>50%</th>\n",
              "      <td>7.900000</td>\n",
              "      <td>0.520000</td>\n",
              "      <td>0.260000</td>\n",
              "      <td>2.200000</td>\n",
              "      <td>0.079000</td>\n",
              "      <td>14.000000</td>\n",
              "      <td>38.000000</td>\n",
              "      <td>0.996750</td>\n",
              "      <td>3.310000</td>\n",
              "      <td>0.620000</td>\n",
              "      <td>10.200000</td>\n",
              "      <td>6.000000</td>\n",
              "    </tr>\n",
              "    <tr>\n",
              "      <th>75%</th>\n",
              "      <td>9.200000</td>\n",
              "      <td>0.640000</td>\n",
              "      <td>0.420000</td>\n",
              "      <td>2.600000</td>\n",
              "      <td>0.090000</td>\n",
              "      <td>21.000000</td>\n",
              "      <td>62.000000</td>\n",
              "      <td>0.997835</td>\n",
              "      <td>3.400000</td>\n",
              "      <td>0.730000</td>\n",
              "      <td>11.100000</td>\n",
              "      <td>6.000000</td>\n",
              "    </tr>\n",
              "    <tr>\n",
              "      <th>max</th>\n",
              "      <td>15.900000</td>\n",
              "      <td>1.580000</td>\n",
              "      <td>1.000000</td>\n",
              "      <td>15.500000</td>\n",
              "      <td>0.611000</td>\n",
              "      <td>72.000000</td>\n",
              "      <td>289.000000</td>\n",
              "      <td>1.003690</td>\n",
              "      <td>4.010000</td>\n",
              "      <td>2.000000</td>\n",
              "      <td>14.900000</td>\n",
              "      <td>8.000000</td>\n",
              "    </tr>\n",
              "  </tbody>\n",
              "</table>\n",
              "</div>\n",
              "      <button class=\"colab-df-convert\" onclick=\"convertToInteractive('df-550eafd3-3ffa-457e-af17-b1d80dd0d451')\"\n",
              "              title=\"Convert this dataframe to an interactive table.\"\n",
              "              style=\"display:none;\">\n",
              "        \n",
              "  <svg xmlns=\"http://www.w3.org/2000/svg\" height=\"24px\"viewBox=\"0 0 24 24\"\n",
              "       width=\"24px\">\n",
              "    <path d=\"M0 0h24v24H0V0z\" fill=\"none\"/>\n",
              "    <path d=\"M18.56 5.44l.94 2.06.94-2.06 2.06-.94-2.06-.94-.94-2.06-.94 2.06-2.06.94zm-11 1L8.5 8.5l.94-2.06 2.06-.94-2.06-.94L8.5 2.5l-.94 2.06-2.06.94zm10 10l.94 2.06.94-2.06 2.06-.94-2.06-.94-.94-2.06-.94 2.06-2.06.94z\"/><path d=\"M17.41 7.96l-1.37-1.37c-.4-.4-.92-.59-1.43-.59-.52 0-1.04.2-1.43.59L10.3 9.45l-7.72 7.72c-.78.78-.78 2.05 0 2.83L4 21.41c.39.39.9.59 1.41.59.51 0 1.02-.2 1.41-.59l7.78-7.78 2.81-2.81c.8-.78.8-2.07 0-2.86zM5.41 20L4 18.59l7.72-7.72 1.47 1.35L5.41 20z\"/>\n",
              "  </svg>\n",
              "      </button>\n",
              "      \n",
              "  <style>\n",
              "    .colab-df-container {\n",
              "      display:flex;\n",
              "      flex-wrap:wrap;\n",
              "      gap: 12px;\n",
              "    }\n",
              "\n",
              "    .colab-df-convert {\n",
              "      background-color: #E8F0FE;\n",
              "      border: none;\n",
              "      border-radius: 50%;\n",
              "      cursor: pointer;\n",
              "      display: none;\n",
              "      fill: #1967D2;\n",
              "      height: 32px;\n",
              "      padding: 0 0 0 0;\n",
              "      width: 32px;\n",
              "    }\n",
              "\n",
              "    .colab-df-convert:hover {\n",
              "      background-color: #E2EBFA;\n",
              "      box-shadow: 0px 1px 2px rgba(60, 64, 67, 0.3), 0px 1px 3px 1px rgba(60, 64, 67, 0.15);\n",
              "      fill: #174EA6;\n",
              "    }\n",
              "\n",
              "    [theme=dark] .colab-df-convert {\n",
              "      background-color: #3B4455;\n",
              "      fill: #D2E3FC;\n",
              "    }\n",
              "\n",
              "    [theme=dark] .colab-df-convert:hover {\n",
              "      background-color: #434B5C;\n",
              "      box-shadow: 0px 1px 3px 1px rgba(0, 0, 0, 0.15);\n",
              "      filter: drop-shadow(0px 1px 2px rgba(0, 0, 0, 0.3));\n",
              "      fill: #FFFFFF;\n",
              "    }\n",
              "  </style>\n",
              "\n",
              "      <script>\n",
              "        const buttonEl =\n",
              "          document.querySelector('#df-550eafd3-3ffa-457e-af17-b1d80dd0d451 button.colab-df-convert');\n",
              "        buttonEl.style.display =\n",
              "          google.colab.kernel.accessAllowed ? 'block' : 'none';\n",
              "\n",
              "        async function convertToInteractive(key) {\n",
              "          const element = document.querySelector('#df-550eafd3-3ffa-457e-af17-b1d80dd0d451');\n",
              "          const dataTable =\n",
              "            await google.colab.kernel.invokeFunction('convertToInteractive',\n",
              "                                                     [key], {});\n",
              "          if (!dataTable) return;\n",
              "\n",
              "          const docLinkHtml = 'Like what you see? Visit the ' +\n",
              "            '<a target=\"_blank\" href=https://colab.research.google.com/notebooks/data_table.ipynb>data table notebook</a>'\n",
              "            + ' to learn more about interactive tables.';\n",
              "          element.innerHTML = '';\n",
              "          dataTable['output_type'] = 'display_data';\n",
              "          await google.colab.output.renderOutput(dataTable, element);\n",
              "          const docLink = document.createElement('div');\n",
              "          docLink.innerHTML = docLinkHtml;\n",
              "          element.appendChild(docLink);\n",
              "        }\n",
              "      </script>\n",
              "    </div>\n",
              "  </div>\n",
              "  "
            ],
            "text/plain": [
              "       fixed acidity  volatile acidity  ...      alcohol      quality\n",
              "count    1599.000000       1599.000000  ...  1599.000000  1599.000000\n",
              "mean        8.319637          0.527821  ...    10.422983     5.636023\n",
              "std         1.741096          0.179060  ...     1.065668     0.807569\n",
              "min         4.600000          0.120000  ...     8.400000     3.000000\n",
              "25%         7.100000          0.390000  ...     9.500000     5.000000\n",
              "50%         7.900000          0.520000  ...    10.200000     6.000000\n",
              "75%         9.200000          0.640000  ...    11.100000     6.000000\n",
              "max        15.900000          1.580000  ...    14.900000     8.000000\n",
              "\n",
              "[8 rows x 12 columns]"
            ]
          },
          "metadata": {},
          "execution_count": 21
        }
      ]
    },
    {
      "cell_type": "markdown",
      "metadata": {
        "id": "U4H5BBYf41HN"
      },
      "source": [
        "####Checking for Null values"
      ]
    },
    {
      "cell_type": "code",
      "metadata": {
        "colab": {
          "base_uri": "https://localhost:8080/"
        },
        "id": "Yks581eO4shT",
        "outputId": "b609ab93-9b20-435e-b4c1-ac06728f7415"
      },
      "source": [
        "df.isnull().sum() # we do not have any null values here."
      ],
      "execution_count": null,
      "outputs": [
        {
          "output_type": "execute_result",
          "data": {
            "text/plain": [
              "fixed acidity           0\n",
              "volatile acidity        0\n",
              "citric acid             0\n",
              "residual sugar          0\n",
              "chlorides               0\n",
              "free sulfur dioxide     0\n",
              "total sulfur dioxide    0\n",
              "density                 0\n",
              "pH                      0\n",
              "sulphates               0\n",
              "alcohol                 0\n",
              "quality                 0\n",
              "dtype: int64"
            ]
          },
          "metadata": {},
          "execution_count": 22
        }
      ]
    },
    {
      "cell_type": "markdown",
      "metadata": {
        "id": "ztECyX3E3v0v"
      },
      "source": [
        "####Info about Quality\n"
      ]
    },
    {
      "cell_type": "code",
      "metadata": {
        "colab": {
          "base_uri": "https://localhost:8080/",
          "height": 279
        },
        "id": "azzqcR2h35T3",
        "outputId": "ca49e4a5-fdff-4509-ef48-5d97c9b90b47"
      },
      "source": [
        "#let's start visualizing the different quality values and how many wines have that rating in our dataset\n",
        "sns.countplot(x=\"quality\",data=df)\n",
        "plt.show()"
      ],
      "execution_count": null,
      "outputs": [
        {
          "output_type": "display_data",
          "data": {
            "image/png": "[encoded data removed]",
            "text/plain": [
              "<Figure size 432x288 with 1 Axes>"
            ]
          },
          "metadata": {
            "needs_background": "light"
          }
        }
      ]
    },
    {
      "cell_type": "code",
      "metadata": {
        "colab": {
          "base_uri": "https://localhost:8080/"
        },
        "id": "ctykfTKC4AlV",
        "outputId": "76bc7b02-19f4-48dd-faa5-6d17e9061f4f"
      },
      "source": [
        "df['quality'].value_counts()"
      ],
      "execution_count": null,
      "outputs": [
        {
          "output_type": "execute_result",
          "data": {
            "text/plain": [
              "5    681\n",
              "6    638\n",
              "7    199\n",
              "4     53\n",
              "8     18\n",
              "3     10\n",
              "Name: quality, dtype: int64"
            ]
          },
          "metadata": {},
          "execution_count": 24
        }
      ]
    },
    {
      "cell_type": "markdown",
      "metadata": {
        "id": "UoxFZXvtbX_y"
      },
      "source": [
        "####divide into input and output"
      ]
    },
    {
      "cell_type": "code",
      "metadata": {
        "id": "oJKLzcuGZhL7"
      },
      "source": [
        "x=df.iloc[:,0:11].values # in first model we are taking all the features to predict quality\n",
        "y=df.iloc[:,11].values "
      ],
      "execution_count": null,
      "outputs": []
    },
    {
      "cell_type": "markdown",
      "metadata": {
        "id": "-jYIp2Qgbroc"
      },
      "source": [
        "####train and test variables"
      ]
    },
    {
      "cell_type": "code",
      "metadata": {
        "id": "zO6XQPcMdv5k"
      },
      "source": [
        "from sklearn.model_selection import train_test_split\n",
        "trainx,testx,trainy,testy=train_test_split(x,y,test_size=0.2,random_state=0)"
      ],
      "execution_count": null,
      "outputs": []
    },
    {
      "cell_type": "markdown",
      "metadata": {
        "id": "daCXHrsrbynm"
      },
      "source": [
        "####run a regressor and fit the model"
      ]
    },
    {
      "cell_type": "code",
      "metadata": {
        "colab": {
          "base_uri": "https://localhost:8080/"
        },
        "id": "hRFAu5ekgtL5",
        "outputId": "2ea8ddb3-e71d-4449-9d96-6b65070de2b2"
      },
      "source": [
        "from sklearn.linear_model import LinearRegression #taking linear regression as per requirement of given data\n",
        "lin=LinearRegression()\n",
        "lin.fit(trainx,trainy)  #training our model"
      ],
      "execution_count": null,
      "outputs": [
        {
          "output_type": "execute_result",
          "data": {
            "text/plain": [
              "LinearRegression()"
            ]
          },
          "metadata": {},
          "execution_count": 27
        }
      ]
    },
    {
      "cell_type": "markdown",
      "metadata": {
        "id": "EgcjFcl9cCrx"
      },
      "source": [
        "####predicting the model"
      ]
    },
    {
      "cell_type": "code",
      "metadata": {
        "id": "zq6Pl-FchMWF"
      },
      "source": [
        "predy=lin.predict(testx) #predicting our model"
      ],
      "execution_count": null,
      "outputs": []
    },
    {
      "cell_type": "code",
      "metadata": {
        "colab": {
          "base_uri": "https://localhost:8080/"
        },
        "id": "IPBR3zCLhSBb",
        "outputId": "24aac100-83a7-423a-b349-8ad1b6052545"
      },
      "source": [
        "print(predy)"
      ],
      "execution_count": null,
      "outputs": [
        {
          "output_type": "stream",
          "name": "stdout",
          "text": [
            "[5.7829301  5.03619267 6.59698929 5.33912637 5.93952898 5.0072068\n",
            " 5.39616171 6.05211188 4.86760343 4.95067572 5.28580441 5.41265269\n",
            " 5.7057424  5.12921737 5.52885206 6.38052412 6.81012527 5.73803346\n",
            " 5.97618825 5.08613415 6.34479863 5.16400983 5.64203971 6.1462903\n",
            " 5.4817802  5.03391406 5.18721293 6.48783659 5.33301372 6.30458308\n",
            " 6.03452293 5.82849303 5.58503524 5.28512701 5.75656128 6.15273792\n",
            " 5.14134479 5.48228021 6.38983359 5.7901819  5.42936928 6.04810414\n",
            " 6.70159678 6.60160183 5.97253803 4.78890763 5.49565005 6.01881894\n",
            " 5.48895041 6.10824243 5.3126164  5.28492351 5.76043226 6.36081498\n",
            " 5.7195388  5.26971928 5.08498332 5.31050693 6.50895816 5.44323413\n",
            " 5.16377401 5.76427324 6.0703837  6.28933679 5.07315141 6.11874641\n",
            " 5.35681067 6.01343647 6.12184268 5.98547673 5.35327968 5.4367731\n",
            " 5.06017324 5.58939889 5.62593935 6.25651326 5.37875073 5.31024191\n",
            " 5.72008022 6.30275434 5.71093253 5.27783285 5.89582077 6.0876033\n",
            " 5.50616533 5.37465715 6.2437351  5.07332478 5.32665801 4.97398339\n",
            " 5.15975198 5.3222433  5.80802642 5.41018532 6.20608506 5.35327968\n",
            " 6.29102872 5.3563169  5.44615319 5.91167448 6.8638794  5.95652806\n",
            " 5.78388971 6.29371091 5.59599754 4.95365311 5.59599754 5.42146389\n",
            " 6.01303846 5.27638601 5.88672069 5.12760247 6.2448062  5.02250118\n",
            " 5.61019652 5.78465194 5.67109764 6.40669755 5.80411913 5.64203971\n",
            " 5.1425518  5.90518858 5.40535036 5.08051616 6.21318148 6.31555382\n",
            " 5.31479331 5.43479319 6.00371415 6.44580043 5.42123137 5.21176713\n",
            " 6.0115925  5.82456823 6.30161065 5.2778688  5.89171326 5.27523169\n",
            " 6.06991874 5.33404791 6.01515226 5.09525238 5.49565005 5.26881614\n",
            " 5.6457977  5.7407852  6.2448062  6.40720033 6.25146759 5.27789573\n",
            " 5.91333663 5.90495368 5.42146389 5.51302494 5.54847605 5.40070493\n",
            " 5.08033848 5.3510922  6.22327966 6.09839802 5.93181807 5.58654048\n",
            " 6.28448742 5.12182863 5.92703798 5.02880639 6.02096889 6.48614221\n",
            " 5.47510197 5.95369102 5.96856352 5.52714605 4.99032758 6.61783587\n",
            " 5.83168392 6.27155921 6.1696774  6.82398109 6.09221279 4.79911152\n",
            " 5.08007664 6.97183788 5.47185136 6.15652237 6.76814871 5.01090071\n",
            " 5.64760285 5.78388971 4.99837302 6.13355739 6.07096526 5.90429107\n",
            " 5.15557434 5.46274017 5.18721745 5.16438178 5.28580441 5.14635187\n",
            " 5.23327742 5.13457255 5.25484703 6.16206701 5.16430349 5.29976489\n",
            " 5.41360202 4.95989181 5.08718841 6.34194262 6.02109942 5.40945753\n",
            " 5.93102776 6.16931767 5.35093909 6.37326597 5.00471968 5.44868099\n",
            " 5.90152973 6.03130172 5.56044971 5.00135995 5.03938153 5.93018212\n",
            " 6.39367602 5.74511903 5.42761053 6.01275242 6.38386771 5.76122648\n",
            " 4.82219859 5.46878592 5.04430938 5.90506617 5.06816998 5.87105926\n",
            " 6.25707687 5.63526985 6.1124061  6.58032257 6.51304421 6.12637713\n",
            " 5.34985341 4.91834558 5.02633902 5.10209868 5.93751622 4.82726361\n",
            " 5.58643272 5.25007252 4.87286412 6.34221756 4.87320824 5.26969753\n",
            " 4.89400677 5.33869588 5.52716577 5.53897238 5.12721593 5.06001131\n",
            " 5.13911179 5.59628108 5.34085607 6.96723853 5.31357668 5.6468939\n",
            " 5.24038769 4.69060078 5.33061878 4.97930332 5.60209709 6.49226284\n",
            " 5.72883634 5.7319909  5.63538976 6.086924   5.92577835 5.85174439\n",
            " 6.37461452 5.18497794 6.56584684 6.14312626 5.37501664 6.91651759\n",
            " 5.7319909  6.34086207 5.78421572 5.18439125 5.54950551 5.33360868\n",
            " 6.269919   5.88265344 5.68163948 5.42086654 6.12538899 5.31406745\n",
            " 5.19528191 5.70178575 5.5675469  5.14670499 5.15556398 5.24007613\n",
            " 5.69892321 5.06382643 5.35893169 5.69605721 6.10381152 5.84992365\n",
            " 5.33722415 5.05158628 5.59207818 5.30872494 5.91032222 5.92390941\n",
            " 5.3494868  5.3563169  5.10159886 6.55975683 6.01757571 6.25129053\n",
            " 5.16392559 6.36720517]\n"
          ]
        }
      ]
    },
    {
      "cell_type": "markdown",
      "metadata": {
        "id": "0JuOKtj_cUop"
      },
      "source": [
        "####finding mean absolute error "
      ]
    },
    {
      "cell_type": "code",
      "metadata": {
        "id": "-TlqyNNvhVSe",
        "colab": {
          "base_uri": "https://localhost:8080/"
        },
        "outputId": "1860a2f8-e288-42b0-c26d-5ee065fe7e51"
      },
      "source": [
        "from sklearn.metrics import mean_absolute_error\n",
        "a=mean_absolute_error(testy,predy)\n",
        "print(\"Mean absolute error is:\",a)"
      ],
      "execution_count": null,
      "outputs": [
        {
          "output_type": "stream",
          "name": "stdout",
          "text": [
            "Mean absolute error is: 0.4696330928661096\n"
          ]
        }
      ]
    },
    {
      "cell_type": "markdown",
      "metadata": {
        "id": "o1AbgHLlujWP"
      },
      "source": [
        "####Finding mean squared error and root mean square error"
      ]
    },
    {
      "cell_type": "code",
      "metadata": {
        "id": "-BT7DQ-nvbGN",
        "colab": {
          "base_uri": "https://localhost:8080/"
        },
        "outputId": "7ea08a28-69b6-48f9-8ccc-5aad85b13b4c"
      },
      "source": [
        "from sklearn.metrics import mean_squared_error\n",
        "meansqerror=mean_squared_error(testy,predy) \n",
        "root_mean_squared_error=np.sqrt(meansqerror)\n",
        "print(\"Mean squared error is :\",meansqerror) \n",
        "print(\"Root mean squared error is :\",root_mean_squared_error)"
      ],
      "execution_count": null,
      "outputs": [
        {
          "output_type": "stream",
          "name": "stdout",
          "text": [
            "Mean squared error is : 0.38447119782012323\n",
            "Root mean squared error is : 0.6200574149384259\n"
          ]
        }
      ]
    },
    {
      "cell_type": "markdown",
      "metadata": {
        "id": "DdSZ_q9T0-cR"
      },
      "source": [
        "###Model2"
      ]
    },
    {
      "cell_type": "markdown",
      "metadata": {
        "id": "KWbSOqpc1Gnb"
      },
      "source": [
        "####Importing dataset again"
      ]
    },
    {
      "cell_type": "code",
      "metadata": {
        "colab": {
          "base_uri": "https://localhost:8080/"
        },
        "id": "QTMpUUR01C1e",
        "outputId": "f83ebfd4-25b3-4143-a915-c24832f24ba5"
      },
      "source": [
        "df1=pd.read_csv(\"/content/winequality-red.csv\")\n",
        "print(df1)"
      ],
      "execution_count": null,
      "outputs": [
        {
          "output_type": "stream",
          "name": "stdout",
          "text": [
            "      fixed acidity  volatile acidity  citric acid  ...  sulphates  alcohol  quality\n",
            "0               7.4             0.700         0.00  ...       0.56      9.4        5\n",
            "1               7.8             0.880         0.00  ...       0.68      9.8        5\n",
            "2               7.8             0.760         0.04  ...       0.65      9.8        5\n",
            "3              11.2             0.280         0.56  ...       0.58      9.8        6\n",
            "4               7.4             0.700         0.00  ...       0.56      9.4        5\n",
            "...             ...               ...          ...  ...        ...      ...      ...\n",
            "1594            6.2             0.600         0.08  ...       0.58     10.5        5\n",
            "1595            5.9             0.550         0.10  ...       0.76     11.2        6\n",
            "1596            6.3             0.510         0.13  ...       0.75     11.0        6\n",
            "1597            5.9             0.645         0.12  ...       0.71     10.2        5\n",
            "1598            6.0             0.310         0.47  ...       0.66     11.0        6\n",
            "\n",
            "[1599 rows x 12 columns]\n"
          ]
        }
      ]
    },
    {
      "cell_type": "markdown",
      "metadata": {
        "id": "5T4WTyPw1k20"
      },
      "source": [
        "####Correlation between features and label"
      ]
    },
    {
      "cell_type": "code",
      "metadata": {
        "colab": {
          "base_uri": "https://localhost:8080/",
          "height": 470
        },
        "id": "4VUBqPNf1S7Y",
        "outputId": "a54d8fcb-4206-4c70-971e-63777c92fab1"
      },
      "source": [
        "df1.corr()"
      ],
      "execution_count": null,
      "outputs": [
        {
          "output_type": "execute_result",
          "data": {
            "text/html": [
              "\n",
              "  <div id=\"df-117a3116-8856-498e-8312-95a1692e5d70\">\n",
              "    <div class=\"colab-df-container\">\n",
              "      <div>\n",
              "<style scoped>\n",
              "    .dataframe tbody tr th:only-of-type {\n",
              "        vertical-align: middle;\n",
              "    }\n",
              "\n",
              "    .dataframe tbody tr th {\n",
              "        vertical-align: top;\n",
              "    }\n",
              "\n",
              "    .dataframe thead th {\n",
              "        text-align: right;\n",
              "    }\n",
              "</style>\n",
              "<table border=\"1\" class=\"dataframe\">\n",
              "  <thead>\n",
              "    <tr style=\"text-align: right;\">\n",
              "      <th></th>\n",
              "      <th>fixed acidity</th>\n",
              "      <th>volatile acidity</th>\n",
              "      <th>citric acid</th>\n",
              "      <th>residual sugar</th>\n",
              "      <th>chlorides</th>\n",
              "      <th>free sulfur dioxide</th>\n",
              "      <th>total sulfur dioxide</th>\n",
              "      <th>density</th>\n",
              "      <th>pH</th>\n",
              "      <th>sulphates</th>\n",
              "      <th>alcohol</th>\n",
              "      <th>quality</th>\n",
              "    </tr>\n",
              "  </thead>\n",
              "  <tbody>\n",
              "    <tr>\n",
              "      <th>fixed acidity</th>\n",
              "      <td>1.000000</td>\n",
              "      <td>-0.256131</td>\n",
              "      <td>0.671703</td>\n",
              "      <td>0.114777</td>\n",
              "      <td>0.093705</td>\n",
              "      <td>-0.153794</td>\n",
              "      <td>-0.113181</td>\n",
              "      <td>0.668047</td>\n",
              "      <td>-0.682978</td>\n",
              "      <td>0.183006</td>\n",
              "      <td>-0.061668</td>\n",
              "      <td>0.124052</td>\n",
              "    </tr>\n",
              "    <tr>\n",
              "      <th>volatile acidity</th>\n",
              "      <td>-0.256131</td>\n",
              "      <td>1.000000</td>\n",
              "      <td>-0.552496</td>\n",
              "      <td>0.001918</td>\n",
              "      <td>0.061298</td>\n",
              "      <td>-0.010504</td>\n",
              "      <td>0.076470</td>\n",
              "      <td>0.022026</td>\n",
              "      <td>0.234937</td>\n",
              "      <td>-0.260987</td>\n",
              "      <td>-0.202288</td>\n",
              "      <td>-0.390558</td>\n",
              "    </tr>\n",
              "    <tr>\n",
              "      <th>citric acid</th>\n",
              "      <td>0.671703</td>\n",
              "      <td>-0.552496</td>\n",
              "      <td>1.000000</td>\n",
              "      <td>0.143577</td>\n",
              "      <td>0.203823</td>\n",
              "      <td>-0.060978</td>\n",
              "      <td>0.035533</td>\n",
              "      <td>0.364947</td>\n",
              "      <td>-0.541904</td>\n",
              "      <td>0.312770</td>\n",
              "      <td>0.109903</td>\n",
              "      <td>0.226373</td>\n",
              "    </tr>\n",
              "    <tr>\n",
              "      <th>residual sugar</th>\n",
              "      <td>0.114777</td>\n",
              "      <td>0.001918</td>\n",
              "      <td>0.143577</td>\n",
              "      <td>1.000000</td>\n",
              "      <td>0.055610</td>\n",
              "      <td>0.187049</td>\n",
              "      <td>0.203028</td>\n",
              "      <td>0.355283</td>\n",
              "      <td>-0.085652</td>\n",
              "      <td>0.005527</td>\n",
              "      <td>0.042075</td>\n",
              "      <td>0.013732</td>\n",
              "    </tr>\n",
              "    <tr>\n",
              "      <th>chlorides</th>\n",
              "      <td>0.093705</td>\n",
              "      <td>0.061298</td>\n",
              "      <td>0.203823</td>\n",
              "      <td>0.055610</td>\n",
              "      <td>1.000000</td>\n",
              "      <td>0.005562</td>\n",
              "      <td>0.047400</td>\n",
              "      <td>0.200632</td>\n",
              "      <td>-0.265026</td>\n",
              "      <td>0.371260</td>\n",
              "      <td>-0.221141</td>\n",
              "      <td>-0.128907</td>\n",
              "    </tr>\n",
              "    <tr>\n",
              "      <th>free sulfur dioxide</th>\n",
              "      <td>-0.153794</td>\n",
              "      <td>-0.010504</td>\n",
              "      <td>-0.060978</td>\n",
              "      <td>0.187049</td>\n",
              "      <td>0.005562</td>\n",
              "      <td>1.000000</td>\n",
              "      <td>0.667666</td>\n",
              "      <td>-0.021946</td>\n",
              "      <td>0.070377</td>\n",
              "      <td>0.051658</td>\n",
              "      <td>-0.069408</td>\n",
              "      <td>-0.050656</td>\n",
              "    </tr>\n",
              "    <tr>\n",
              "      <th>total sulfur dioxide</th>\n",
              "      <td>-0.113181</td>\n",
              "      <td>0.076470</td>\n",
              "      <td>0.035533</td>\n",
              "      <td>0.203028</td>\n",
              "      <td>0.047400</td>\n",
              "      <td>0.667666</td>\n",
              "      <td>1.000000</td>\n",
              "      <td>0.071269</td>\n",
              "      <td>-0.066495</td>\n",
              "      <td>0.042947</td>\n",
              "      <td>-0.205654</td>\n",
              "      <td>-0.185100</td>\n",
              "    </tr>\n",
              "    <tr>\n",
              "      <th>density</th>\n",
              "      <td>0.668047</td>\n",
              "      <td>0.022026</td>\n",
              "      <td>0.364947</td>\n",
              "      <td>0.355283</td>\n",
              "      <td>0.200632</td>\n",
              "      <td>-0.021946</td>\n",
              "      <td>0.071269</td>\n",
              "      <td>1.000000</td>\n",
              "      <td>-0.341699</td>\n",
              "      <td>0.148506</td>\n",
              "      <td>-0.496180</td>\n",
              "      <td>-0.174919</td>\n",
              "    </tr>\n",
              "    <tr>\n",
              "      <th>pH</th>\n",
              "      <td>-0.682978</td>\n",
              "      <td>0.234937</td>\n",
              "      <td>-0.541904</td>\n",
              "      <td>-0.085652</td>\n",
              "      <td>-0.265026</td>\n",
              "      <td>0.070377</td>\n",
              "      <td>-0.066495</td>\n",
              "      <td>-0.341699</td>\n",
              "      <td>1.000000</td>\n",
              "      <td>-0.196648</td>\n",
              "      <td>0.205633</td>\n",
              "      <td>-0.057731</td>\n",
              "    </tr>\n",
              "    <tr>\n",
              "      <th>sulphates</th>\n",
              "      <td>0.183006</td>\n",
              "      <td>-0.260987</td>\n",
              "      <td>0.312770</td>\n",
              "      <td>0.005527</td>\n",
              "      <td>0.371260</td>\n",
              "      <td>0.051658</td>\n",
              "      <td>0.042947</td>\n",
              "      <td>0.148506</td>\n",
              "      <td>-0.196648</td>\n",
              "      <td>1.000000</td>\n",
              "      <td>0.093595</td>\n",
              "      <td>0.251397</td>\n",
              "    </tr>\n",
              "    <tr>\n",
              "      <th>alcohol</th>\n",
              "      <td>-0.061668</td>\n",
              "      <td>-0.202288</td>\n",
              "      <td>0.109903</td>\n",
              "      <td>0.042075</td>\n",
              "      <td>-0.221141</td>\n",
              "      <td>-0.069408</td>\n",
              "      <td>-0.205654</td>\n",
              "      <td>-0.496180</td>\n",
              "      <td>0.205633</td>\n",
              "      <td>0.093595</td>\n",
              "      <td>1.000000</td>\n",
              "      <td>0.476166</td>\n",
              "    </tr>\n",
              "    <tr>\n",
              "      <th>quality</th>\n",
              "      <td>0.124052</td>\n",
              "      <td>-0.390558</td>\n",
              "      <td>0.226373</td>\n",
              "      <td>0.013732</td>\n",
              "      <td>-0.128907</td>\n",
              "      <td>-0.050656</td>\n",
              "      <td>-0.185100</td>\n",
              "      <td>-0.174919</td>\n",
              "      <td>-0.057731</td>\n",
              "      <td>0.251397</td>\n",
              "      <td>0.476166</td>\n",
              "      <td>1.000000</td>\n",
              "    </tr>\n",
              "  </tbody>\n",
              "</table>\n",
              "</div>\n",
              "      <button class=\"colab-df-convert\" onclick=\"convertToInteractive('df-117a3116-8856-498e-8312-95a1692e5d70')\"\n",
              "              title=\"Convert this dataframe to an interactive table.\"\n",
              "              style=\"display:none;\">\n",
              "        \n",
              "  <svg xmlns=\"http://www.w3.org/2000/svg\" height=\"24px\"viewBox=\"0 0 24 24\"\n",
              "       width=\"24px\">\n",
              "    <path d=\"M0 0h24v24H0V0z\" fill=\"none\"/>\n",
              "    <path d=\"M18.56 5.44l.94 2.06.94-2.06 2.06-.94-2.06-.94-.94-2.06-.94 2.06-2.06.94zm-11 1L8.5 8.5l.94-2.06 2.06-.94-2.06-.94L8.5 2.5l-.94 2.06-2.06.94zm10 10l.94 2.06.94-2.06 2.06-.94-2.06-.94-.94-2.06-.94 2.06-2.06.94z\"/><path d=\"M17.41 7.96l-1.37-1.37c-.4-.4-.92-.59-1.43-.59-.52 0-1.04.2-1.43.59L10.3 9.45l-7.72 7.72c-.78.78-.78 2.05 0 2.83L4 21.41c.39.39.9.59 1.41.59.51 0 1.02-.2 1.41-.59l7.78-7.78 2.81-2.81c.8-.78.8-2.07 0-2.86zM5.41 20L4 18.59l7.72-7.72 1.47 1.35L5.41 20z\"/>\n",
              "  </svg>\n",
              "      </button>\n",
              "      \n",
              "  <style>\n",
              "    .colab-df-container {\n",
              "      display:flex;\n",
              "      flex-wrap:wrap;\n",
              "      gap: 12px;\n",
              "    }\n",
              "\n",
              "    .colab-df-convert {\n",
              "      background-color: #E8F0FE;\n",
              "      border: none;\n",
              "      border-radius: 50%;\n",
              "      cursor: pointer;\n",
              "      display: none;\n",
              "      fill: #1967D2;\n",
              "      height: 32px;\n",
              "      padding: 0 0 0 0;\n",
              "      width: 32px;\n",
              "    }\n",
              "\n",
              "    .colab-df-convert:hover {\n",
              "      background-color: #E2EBFA;\n",
              "      box-shadow: 0px 1px 2px rgba(60, 64, 67, 0.3), 0px 1px 3px 1px rgba(60, 64, 67, 0.15);\n",
              "      fill: #174EA6;\n",
              "    }\n",
              "\n",
              "    [theme=dark] .colab-df-convert {\n",
              "      background-color: #3B4455;\n",
              "      fill: #D2E3FC;\n",
              "    }\n",
              "\n",
              "    [theme=dark] .colab-df-convert:hover {\n",
              "      background-color: #434B5C;\n",
              "      box-shadow: 0px 1px 3px 1px rgba(0, 0, 0, 0.15);\n",
              "      filter: drop-shadow(0px 1px 2px rgba(0, 0, 0, 0.3));\n",
              "      fill: #FFFFFF;\n",
              "    }\n",
              "  </style>\n",
              "\n",
              "      <script>\n",
              "        const buttonEl =\n",
              "          document.querySelector('#df-117a3116-8856-498e-8312-95a1692e5d70 button.colab-df-convert');\n",
              "        buttonEl.style.display =\n",
              "          google.colab.kernel.accessAllowed ? 'block' : 'none';\n",
              "\n",
              "        async function convertToInteractive(key) {\n",
              "          const element = document.querySelector('#df-117a3116-8856-498e-8312-95a1692e5d70');\n",
              "          const dataTable =\n",
              "            await google.colab.kernel.invokeFunction('convertToInteractive',\n",
              "                                                     [key], {});\n",
              "          if (!dataTable) return;\n",
              "\n",
              "          const docLinkHtml = 'Like what you see? Visit the ' +\n",
              "            '<a target=\"_blank\" href=https://colab.research.google.com/notebooks/data_table.ipynb>data table notebook</a>'\n",
              "            + ' to learn more about interactive tables.';\n",
              "          element.innerHTML = '';\n",
              "          dataTable['output_type'] = 'display_data';\n",
              "          await google.colab.output.renderOutput(dataTable, element);\n",
              "          const docLink = document.createElement('div');\n",
              "          docLink.innerHTML = docLinkHtml;\n",
              "          element.appendChild(docLink);\n",
              "        }\n",
              "      </script>\n",
              "    </div>\n",
              "  </div>\n",
              "  "
            ],
            "text/plain": [
              "                      fixed acidity  volatile acidity  ...   alcohol   quality\n",
              "fixed acidity              1.000000         -0.256131  ... -0.061668  0.124052\n",
              "volatile acidity          -0.256131          1.000000  ... -0.202288 -0.390558\n",
              "citric acid                0.671703         -0.552496  ...  0.109903  0.226373\n",
              "residual sugar             0.114777          0.001918  ...  0.042075  0.013732\n",
              "chlorides                  0.093705          0.061298  ... -0.221141 -0.128907\n",
              "free sulfur dioxide       -0.153794         -0.010504  ... -0.069408 -0.050656\n",
              "total sulfur dioxide      -0.113181          0.076470  ... -0.205654 -0.185100\n",
              "density                    0.668047          0.022026  ... -0.496180 -0.174919\n",
              "pH                        -0.682978          0.234937  ...  0.205633 -0.057731\n",
              "sulphates                  0.183006         -0.260987  ...  0.093595  0.251397\n",
              "alcohol                   -0.061668         -0.202288  ...  1.000000  0.476166\n",
              "quality                    0.124052         -0.390558  ...  0.476166  1.000000\n",
              "\n",
              "[12 rows x 12 columns]"
            ]
          },
          "metadata": {},
          "execution_count": 33
        }
      ]
    },
    {
      "cell_type": "code",
      "metadata": {
        "colab": {
          "base_uri": "https://localhost:8080/"
        },
        "id": "zYUPBoqI1uwz",
        "outputId": "c885bf51-d9ce-42ce-9305-224ddb6ad976"
      },
      "source": [
        "correlations = df1.corr()['quality'].sort_values(ascending=False) #correlation of all features with label in highest to lowest\n",
        "print(correlations)"
      ],
      "execution_count": null,
      "outputs": [
        {
          "output_type": "stream",
          "name": "stdout",
          "text": [
            "quality                 1.000000\n",
            "alcohol                 0.476166\n",
            "sulphates               0.251397\n",
            "citric acid             0.226373\n",
            "fixed acidity           0.124052\n",
            "residual sugar          0.013732\n",
            "free sulfur dioxide    -0.050656\n",
            "pH                     -0.057731\n",
            "chlorides              -0.128907\n",
            "density                -0.174919\n",
            "total sulfur dioxide   -0.185100\n",
            "volatile acidity       -0.390558\n",
            "Name: quality, dtype: float64\n"
          ]
        }
      ]
    },
    {
      "cell_type": "code",
      "metadata": {
        "colab": {
          "base_uri": "https://localhost:8080/",
          "height": 366
        },
        "id": "NoWwb5sf2OD7",
        "outputId": "2c1c7be5-1f89-420d-d5a0-4db1584507c6"
      },
      "source": [
        "correlations.plot(kind='bar') #bar graph for correlation of features and label."
      ],
      "execution_count": null,
      "outputs": [
        {
          "output_type": "execute_result",
          "data": {
            "text/plain": [
              "<matplotlib.axes._subplots.AxesSubplot at 0x7f2c28c52c90>"
            ]
          },
          "metadata": {},
          "execution_count": 35
        },
        {
          "output_type": "display_data",
          "data": {
            "image/png": "[encoded data removed]",
            "text/plain": [
              "<Figure size 432x288 with 1 Axes>"
            ]
          },
          "metadata": {
            "needs_background": "light"
          }
        }
      ]
    },
    {
      "cell_type": "markdown",
      "metadata": {
        "id": "IwZmvdnz6zUp"
      },
      "source": [
        "Here we see the correlation between features and labels and also between features to features so to reduce multicollinearity we will choose most correlated features to label which are not very much related to one another."
      ]
    },
    {
      "cell_type": "markdown",
      "metadata": {
        "id": "q9ZdJNQ_9hsE"
      },
      "source": [
        "####Selecting features"
      ]
    },
    {
      "cell_type": "code",
      "metadata": {
        "colab": {
          "base_uri": "https://localhost:8080/"
        },
        "id": "bN-g4mnY2kXN",
        "outputId": "a59ceaaf-e997-4e63-dacc-239d238da3a3"
      },
      "source": [
        "correlations[abs(correlations) > 0.18] #we considering features having corr with quality more than 0.18"
      ],
      "execution_count": null,
      "outputs": [
        {
          "output_type": "execute_result",
          "data": {
            "text/plain": [
              "quality                 1.000000\n",
              "alcohol                 0.476166\n",
              "sulphates               0.251397\n",
              "citric acid             0.226373\n",
              "total sulfur dioxide   -0.185100\n",
              "volatile acidity       -0.390558\n",
              "Name: quality, dtype: float64"
            ]
          },
          "metadata": {},
          "execution_count": 36
        }
      ]
    },
    {
      "cell_type": "markdown",
      "metadata": {
        "id": "LdgX3mLQ92wT"
      },
      "source": [
        "####Divide into input and output"
      ]
    },
    {
      "cell_type": "code",
      "metadata": {
        "id": "4XDLWPnU9q5C"
      },
      "source": [
        "x1=df.iloc[:,[1,2,6,9,10]].values #taking the values highly correlated to label\n",
        "y1=df.iloc[:,11].values"
      ],
      "execution_count": null,
      "outputs": []
    },
    {
      "cell_type": "markdown",
      "metadata": {
        "id": "La3WaDHo-OhM"
      },
      "source": [
        "####Train and test variable"
      ]
    },
    {
      "cell_type": "code",
      "metadata": {
        "id": "gc9-yt31-LrY"
      },
      "source": [
        "from sklearn.model_selection import train_test_split\n",
        "trainx1,testx1,trainy1,testy1=train_test_split(x1,y1,test_size=0.2,random_state=0)"
      ],
      "execution_count": null,
      "outputs": []
    },
    {
      "cell_type": "markdown",
      "metadata": {
        "id": "ZqJ3LdmU-viO"
      },
      "source": [
        "####Run a regressor and fit the model"
      ]
    },
    {
      "cell_type": "code",
      "metadata": {
        "colab": {
          "base_uri": "https://localhost:8080/"
        },
        "id": "rDFQqs0V-YPU",
        "outputId": "a7ff8cdd-f400-44c2-9f48-c0d18db479c8"
      },
      "source": [
        "from sklearn.linear_model import LinearRegression\n",
        "lin1=LinearRegression()\n",
        "lin1.fit(trainx1,trainy1)"
      ],
      "execution_count": null,
      "outputs": [
        {
          "output_type": "execute_result",
          "data": {
            "text/plain": [
              "LinearRegression()"
            ]
          },
          "metadata": {},
          "execution_count": 39
        }
      ]
    },
    {
      "cell_type": "markdown",
      "metadata": {
        "id": "YTV9l_fs_ESE"
      },
      "source": [
        "####Predicting the model"
      ]
    },
    {
      "cell_type": "code",
      "metadata": {
        "id": "wZmhC6q7_CLz"
      },
      "source": [
        "predy1=lin1.predict(testx1)"
      ],
      "execution_count": null,
      "outputs": []
    },
    {
      "cell_type": "markdown",
      "metadata": {
        "id": "RjyH5TmB_kZC"
      },
      "source": [
        "####Finding the mean absolute error"
      ]
    },
    {
      "cell_type": "code",
      "metadata": {
        "colab": {
          "base_uri": "https://localhost:8080/"
        },
        "id": "fAnVlDtw_TVf",
        "outputId": "486b7663-9246-40db-f6f9-a11c7b843cb7"
      },
      "source": [
        "from sklearn.metrics import mean_absolute_error\n",
        "a1=mean_absolute_error(testy1,predy1)\n",
        "print(\"Mean absolute error is:\",a1)"
      ],
      "execution_count": null,
      "outputs": [
        {
          "output_type": "stream",
          "name": "stdout",
          "text": [
            "Mean absolute error is: 0.47537977403576387\n"
          ]
        }
      ]
    },
    {
      "cell_type": "markdown",
      "metadata": {
        "id": "j-XZDQI6_zl-"
      },
      "source": [
        "####Finding mean squared error and root mean square error"
      ]
    },
    {
      "cell_type": "code",
      "metadata": {
        "colab": {
          "base_uri": "https://localhost:8080/"
        },
        "id": "-2AWKuns_vt6",
        "outputId": "312059a8-b35f-4ad6-a601-56353b31243f"
      },
      "source": [
        "from sklearn.metrics import mean_squared_error\n",
        "meansqerror1=mean_squared_error(testy1,predy1) \n",
        "root_mean_squared_error1=np.sqrt(meansqerror1)\n",
        "print(\"Mean squared error is :\",meansqerror1) \n",
        "print(\"Root mean squared error is :\",root_mean_squared_error1)"
      ],
      "execution_count": null,
      "outputs": [
        {
          "output_type": "stream",
          "name": "stdout",
          "text": [
            "Mean squared error is : 0.3943875351271343\n",
            "Root mean squared error is : 0.6280028145853602\n"
          ]
        }
      ]
    },
    {
      "cell_type": "markdown",
      "metadata": {
        "id": "Gyi1_fkUBlrj"
      },
      "source": [
        "###Comparing both models"
      ]
    },
    {
      "cell_type": "code",
      "metadata": {
        "colab": {
          "base_uri": "https://localhost:8080/"
        },
        "id": "HfZSr6BnAyuI",
        "outputId": "a350f437-bd3e-4fb2-9e6f-4091d4443075"
      },
      "source": [
        "print(\"For model1:\")\n",
        "print(\"Mean absolute error is:\",a)\n",
        "print(\"Mean squared error is :\",meansqerror) \n",
        "print(\"Root mean squared error is :\",root_mean_squared_error,)\n",
        "print(\"\\n\")\n",
        "print(\"For model2\")\n",
        "print(\"Mean absolute error is:\",a1)\n",
        "print(\"Mean squared error is :\",meansqerror1) \n",
        "print(\"Root mean squared error is :\",root_mean_squared_error1)\n"
      ],
      "execution_count": null,
      "outputs": [
        {
          "output_type": "stream",
          "name": "stdout",
          "text": [
            "For model1:\n",
            "Mean absolute error is: 0.4696330928661096\n",
            "Mean squared error is : 0.38447119782012323\n",
            "Root mean squared error is : 0.6200574149384259\n",
            "\n",
            "\n",
            "For model2\n",
            "Mean absolute error is: 0.47537977403576387\n",
            "Mean squared error is : 0.3943875351271343\n",
            "Root mean squared error is : 0.6280028145853602\n"
          ]
        }
      ]
    },
    {
      "cell_type": "markdown",
      "metadata": {
        "id": "1HjrksVeEHiT"
      },
      "source": [
        "So by comparing mean_absolute_error and mean_squared_error of both models we get to know that our model1 is more efficient than model2 despite of correlations. so we could use all features at same time to predict quality of wine."
      ]
    },
    {
      "cell_type": "code",
      "metadata": {
        "colab": {
          "base_uri": "https://localhost:8080/"
        },
        "id": "slh4XpLDJjZb",
        "outputId": "4f1f22da-7beb-4cb5-8b8d-638518807f26"
      },
      "source": [
        "#a is mean absoute error of model1\n",
        "#a1 is mean absolute error of model2\n",
        "k=max(a,a1)\n",
        "print(\"greater mean absolute error is :\",k)"
      ],
      "execution_count": null,
      "outputs": [
        {
          "output_type": "stream",
          "name": "stdout",
          "text": [
            "greater mean absolute error is : 0.47537977403576387\n"
          ]
        }
      ]
    },
    {
      "cell_type": "markdown",
      "metadata": {
        "id": "GQpJPvcQv_xB"
      },
      "source": [
        "Conclusion-Model1 is more efficient than Model2 in predicting quality of wine."
      ]
    },
    {
      "cell_type": "code",
      "metadata": {
        "id": "epn1gGrbJ9jW"
      },
      "source": [
        ""
      ],
      "execution_count": null,
      "outputs": []
    }
  ]
}