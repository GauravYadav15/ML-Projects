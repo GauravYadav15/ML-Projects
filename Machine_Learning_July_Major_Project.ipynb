{
  "nbformat": 4,
  "nbformat_minor": 0,
  "metadata": {
    "colab": {
      "name": "Machine Learning July Major Project.ipynb",
      "provenance": [],
      "collapsed_sections": [],
      "toc_visible": true
    },
    "kernelspec": {
      "name": "python3",
      "display_name": "Python 3"
    },
    "language_info": {
      "name": "python"
    }
  },
  "cells": [
    {
      "cell_type": "markdown",
      "metadata": {
        "id": "faL0fvH1MN-6"
      },
      "source": [
        "###Importing Dataset"
      ]
    },
    {
      "cell_type": "code",
      "metadata": {
        "colab": {
          "base_uri": "https://localhost:8080/"
        },
        "id": "zBMCrEbMLMEa",
        "outputId": "6db29dcc-e563-4a76-e443-87da73ad832b"
      },
      "source": [
        "import pandas as pd \n",
        "df1=pd.read_csv(\"/content/digit_svm.csv\")\n",
        "print(df1)"
      ],
      "execution_count": 43,
      "outputs": [
        {
          "output_type": "stream",
          "name": "stdout",
          "text": [
            "       label  pixel0  pixel1  pixel2  ...  pixel780  pixel781  pixel782  pixel783\n",
            "0          1       0       0       0  ...         0         0         0         0\n",
            "1          0       0       0       0  ...         0         0         0         0\n",
            "2          1       0       0       0  ...         0         0         0         0\n",
            "3          4       0       0       0  ...         0         0         0         0\n",
            "4          0       0       0       0  ...         0         0         0         0\n",
            "...      ...     ...     ...     ...  ...       ...       ...       ...       ...\n",
            "41995      0       0       0       0  ...         0         0         0         0\n",
            "41996      1       0       0       0  ...         0         0         0         0\n",
            "41997      7       0       0       0  ...         0         0         0         0\n",
            "41998      6       0       0       0  ...         0         0         0         0\n",
            "41999      9       0       0       0  ...         0         0         0         0\n",
            "\n",
            "[42000 rows x 785 columns]\n"
          ]
        }
      ]
    },
    {
      "cell_type": "markdown",
      "metadata": {
        "id": "1SAIiFgiN-pC"
      },
      "source": [
        "###Info of data"
      ]
    },
    {
      "cell_type": "code",
      "metadata": {
        "colab": {
          "base_uri": "https://localhost:8080/"
        },
        "id": "szUp1acsN-KJ",
        "outputId": "bf23f810-073e-438b-e77d-98791c2c1352"
      },
      "source": [
        "df1.info()"
      ],
      "execution_count": 23,
      "outputs": [
        {
          "output_type": "stream",
          "name": "stdout",
          "text": [
            "<class 'pandas.core.frame.DataFrame'>\n",
            "RangeIndex: 5732 entries, 0 to 5731\n",
            "Columns: 785 entries, label to pixel783\n",
            "dtypes: float64(409), int64(376)\n",
            "memory usage: 34.3 MB\n"
          ]
        }
      ]
    },
    {
      "cell_type": "markdown",
      "metadata": {
        "id": "aVZitfvMOQ4L"
      },
      "source": [
        "###Statistical data of given dataset"
      ]
    },
    {
      "cell_type": "code",
      "metadata": {
        "colab": {
          "base_uri": "https://localhost:8080/",
          "height": 344
        },
        "id": "XFTM5d00MdW9",
        "outputId": "73c3b88c-2699-4d9e-f657-e09609eb5d87"
      },
      "source": [
        "df1.describe()"
      ],
      "execution_count": 24,
      "outputs": [
        {
          "output_type": "execute_result",
          "data": {
            "text/html": [
              "<div>\n",
              "<style scoped>\n",
              "    .dataframe tbody tr th:only-of-type {\n",
              "        vertical-align: middle;\n",
              "    }\n",
              "\n",
              "    .dataframe tbody tr th {\n",
              "        vertical-align: top;\n",
              "    }\n",
              "\n",
              "    .dataframe thead th {\n",
              "        text-align: right;\n",
              "    }\n",
              "</style>\n",
              "<table border=\"1\" class=\"dataframe\">\n",
              "  <thead>\n",
              "    <tr style=\"text-align: right;\">\n",
              "      <th></th>\n",
              "      <th>label</th>\n",
              "      <th>pixel0</th>\n",
              "      <th>pixel1</th>\n",
              "      <th>pixel2</th>\n",
              "      <th>pixel3</th>\n",
              "      <th>pixel4</th>\n",
              "      <th>pixel5</th>\n",
              "      <th>pixel6</th>\n",
              "      <th>pixel7</th>\n",
              "      <th>pixel8</th>\n",
              "      <th>pixel9</th>\n",
              "      <th>pixel10</th>\n",
              "      <th>pixel11</th>\n",
              "      <th>pixel12</th>\n",
              "      <th>pixel13</th>\n",
              "      <th>pixel14</th>\n",
              "      <th>pixel15</th>\n",
              "      <th>pixel16</th>\n",
              "      <th>pixel17</th>\n",
              "      <th>pixel18</th>\n",
              "      <th>pixel19</th>\n",
              "      <th>pixel20</th>\n",
              "      <th>pixel21</th>\n",
              "      <th>pixel22</th>\n",
              "      <th>pixel23</th>\n",
              "      <th>pixel24</th>\n",
              "      <th>pixel25</th>\n",
              "      <th>pixel26</th>\n",
              "      <th>pixel27</th>\n",
              "      <th>pixel28</th>\n",
              "      <th>pixel29</th>\n",
              "      <th>pixel30</th>\n",
              "      <th>pixel31</th>\n",
              "      <th>pixel32</th>\n",
              "      <th>pixel33</th>\n",
              "      <th>pixel34</th>\n",
              "      <th>pixel35</th>\n",
              "      <th>pixel36</th>\n",
              "      <th>pixel37</th>\n",
              "      <th>pixel38</th>\n",
              "      <th>...</th>\n",
              "      <th>pixel744</th>\n",
              "      <th>pixel745</th>\n",
              "      <th>pixel746</th>\n",
              "      <th>pixel747</th>\n",
              "      <th>pixel748</th>\n",
              "      <th>pixel749</th>\n",
              "      <th>pixel750</th>\n",
              "      <th>pixel751</th>\n",
              "      <th>pixel752</th>\n",
              "      <th>pixel753</th>\n",
              "      <th>pixel754</th>\n",
              "      <th>pixel755</th>\n",
              "      <th>pixel756</th>\n",
              "      <th>pixel757</th>\n",
              "      <th>pixel758</th>\n",
              "      <th>pixel759</th>\n",
              "      <th>pixel760</th>\n",
              "      <th>pixel761</th>\n",
              "      <th>pixel762</th>\n",
              "      <th>pixel763</th>\n",
              "      <th>pixel764</th>\n",
              "      <th>pixel765</th>\n",
              "      <th>pixel766</th>\n",
              "      <th>pixel767</th>\n",
              "      <th>pixel768</th>\n",
              "      <th>pixel769</th>\n",
              "      <th>pixel770</th>\n",
              "      <th>pixel771</th>\n",
              "      <th>pixel772</th>\n",
              "      <th>pixel773</th>\n",
              "      <th>pixel774</th>\n",
              "      <th>pixel775</th>\n",
              "      <th>pixel776</th>\n",
              "      <th>pixel777</th>\n",
              "      <th>pixel778</th>\n",
              "      <th>pixel779</th>\n",
              "      <th>pixel780</th>\n",
              "      <th>pixel781</th>\n",
              "      <th>pixel782</th>\n",
              "      <th>pixel783</th>\n",
              "    </tr>\n",
              "  </thead>\n",
              "  <tbody>\n",
              "    <tr>\n",
              "      <th>count</th>\n",
              "      <td>5732.000000</td>\n",
              "      <td>5732.0</td>\n",
              "      <td>5732.0</td>\n",
              "      <td>5732.0</td>\n",
              "      <td>5732.0</td>\n",
              "      <td>5732.0</td>\n",
              "      <td>5732.0</td>\n",
              "      <td>5732.0</td>\n",
              "      <td>5732.0</td>\n",
              "      <td>5732.0</td>\n",
              "      <td>5732.0</td>\n",
              "      <td>5732.0</td>\n",
              "      <td>5732.0</td>\n",
              "      <td>5732.0</td>\n",
              "      <td>5732.0</td>\n",
              "      <td>5732.0</td>\n",
              "      <td>5732.0</td>\n",
              "      <td>5732.0</td>\n",
              "      <td>5732.0</td>\n",
              "      <td>5732.0</td>\n",
              "      <td>5732.0</td>\n",
              "      <td>5732.0</td>\n",
              "      <td>5732.0</td>\n",
              "      <td>5732.0</td>\n",
              "      <td>5732.0</td>\n",
              "      <td>5732.0</td>\n",
              "      <td>5732.0</td>\n",
              "      <td>5732.0</td>\n",
              "      <td>5732.0</td>\n",
              "      <td>5732.0</td>\n",
              "      <td>5732.0</td>\n",
              "      <td>5732.0</td>\n",
              "      <td>5732.0</td>\n",
              "      <td>5732.0</td>\n",
              "      <td>5732.0</td>\n",
              "      <td>5732.000000</td>\n",
              "      <td>5732.000000</td>\n",
              "      <td>5732.000000</td>\n",
              "      <td>5732.000000</td>\n",
              "      <td>5732.000000</td>\n",
              "      <td>...</td>\n",
              "      <td>5731.000000</td>\n",
              "      <td>5731.000000</td>\n",
              "      <td>5731.000000</td>\n",
              "      <td>5731.000000</td>\n",
              "      <td>5731.000000</td>\n",
              "      <td>5731.000000</td>\n",
              "      <td>5731.000000</td>\n",
              "      <td>5731.000000</td>\n",
              "      <td>5731.0</td>\n",
              "      <td>5731.0</td>\n",
              "      <td>5731.0</td>\n",
              "      <td>5731.0</td>\n",
              "      <td>5731.0</td>\n",
              "      <td>5731.0</td>\n",
              "      <td>5731.0</td>\n",
              "      <td>5731.0</td>\n",
              "      <td>5731.0</td>\n",
              "      <td>5731.000000</td>\n",
              "      <td>5731.000000</td>\n",
              "      <td>5731.000000</td>\n",
              "      <td>5731.000000</td>\n",
              "      <td>5731.000000</td>\n",
              "      <td>5731.000000</td>\n",
              "      <td>5731.000000</td>\n",
              "      <td>5731.000000</td>\n",
              "      <td>5731.000000</td>\n",
              "      <td>5731.000000</td>\n",
              "      <td>5731.000000</td>\n",
              "      <td>5731.000000</td>\n",
              "      <td>5731.000000</td>\n",
              "      <td>5731.000000</td>\n",
              "      <td>5731.000000</td>\n",
              "      <td>5731.000000</td>\n",
              "      <td>5731.0</td>\n",
              "      <td>5731.0</td>\n",
              "      <td>5731.0</td>\n",
              "      <td>5731.0</td>\n",
              "      <td>5731.0</td>\n",
              "      <td>5731.0</td>\n",
              "      <td>5731.0</td>\n",
              "    </tr>\n",
              "    <tr>\n",
              "      <th>mean</th>\n",
              "      <td>4.438765</td>\n",
              "      <td>0.0</td>\n",
              "      <td>0.0</td>\n",
              "      <td>0.0</td>\n",
              "      <td>0.0</td>\n",
              "      <td>0.0</td>\n",
              "      <td>0.0</td>\n",
              "      <td>0.0</td>\n",
              "      <td>0.0</td>\n",
              "      <td>0.0</td>\n",
              "      <td>0.0</td>\n",
              "      <td>0.0</td>\n",
              "      <td>0.0</td>\n",
              "      <td>0.0</td>\n",
              "      <td>0.0</td>\n",
              "      <td>0.0</td>\n",
              "      <td>0.0</td>\n",
              "      <td>0.0</td>\n",
              "      <td>0.0</td>\n",
              "      <td>0.0</td>\n",
              "      <td>0.0</td>\n",
              "      <td>0.0</td>\n",
              "      <td>0.0</td>\n",
              "      <td>0.0</td>\n",
              "      <td>0.0</td>\n",
              "      <td>0.0</td>\n",
              "      <td>0.0</td>\n",
              "      <td>0.0</td>\n",
              "      <td>0.0</td>\n",
              "      <td>0.0</td>\n",
              "      <td>0.0</td>\n",
              "      <td>0.0</td>\n",
              "      <td>0.0</td>\n",
              "      <td>0.0</td>\n",
              "      <td>0.0</td>\n",
              "      <td>0.014829</td>\n",
              "      <td>0.044662</td>\n",
              "      <td>0.065073</td>\n",
              "      <td>0.077809</td>\n",
              "      <td>0.109560</td>\n",
              "      <td>...</td>\n",
              "      <td>3.515268</td>\n",
              "      <td>2.470424</td>\n",
              "      <td>1.718199</td>\n",
              "      <td>1.272902</td>\n",
              "      <td>0.698307</td>\n",
              "      <td>0.233991</td>\n",
              "      <td>0.136276</td>\n",
              "      <td>0.024429</td>\n",
              "      <td>0.0</td>\n",
              "      <td>0.0</td>\n",
              "      <td>0.0</td>\n",
              "      <td>0.0</td>\n",
              "      <td>0.0</td>\n",
              "      <td>0.0</td>\n",
              "      <td>0.0</td>\n",
              "      <td>0.0</td>\n",
              "      <td>0.0</td>\n",
              "      <td>0.045018</td>\n",
              "      <td>0.142035</td>\n",
              "      <td>0.145175</td>\n",
              "      <td>0.100157</td>\n",
              "      <td>0.040482</td>\n",
              "      <td>0.235561</td>\n",
              "      <td>0.455069</td>\n",
              "      <td>0.677892</td>\n",
              "      <td>0.601117</td>\n",
              "      <td>0.723434</td>\n",
              "      <td>0.486303</td>\n",
              "      <td>0.285988</td>\n",
              "      <td>0.125284</td>\n",
              "      <td>0.153551</td>\n",
              "      <td>0.156517</td>\n",
              "      <td>0.029663</td>\n",
              "      <td>0.0</td>\n",
              "      <td>0.0</td>\n",
              "      <td>0.0</td>\n",
              "      <td>0.0</td>\n",
              "      <td>0.0</td>\n",
              "      <td>0.0</td>\n",
              "      <td>0.0</td>\n",
              "    </tr>\n",
              "    <tr>\n",
              "      <th>std</th>\n",
              "      <td>2.878433</td>\n",
              "      <td>0.0</td>\n",
              "      <td>0.0</td>\n",
              "      <td>0.0</td>\n",
              "      <td>0.0</td>\n",
              "      <td>0.0</td>\n",
              "      <td>0.0</td>\n",
              "      <td>0.0</td>\n",
              "      <td>0.0</td>\n",
              "      <td>0.0</td>\n",
              "      <td>0.0</td>\n",
              "      <td>0.0</td>\n",
              "      <td>0.0</td>\n",
              "      <td>0.0</td>\n",
              "      <td>0.0</td>\n",
              "      <td>0.0</td>\n",
              "      <td>0.0</td>\n",
              "      <td>0.0</td>\n",
              "      <td>0.0</td>\n",
              "      <td>0.0</td>\n",
              "      <td>0.0</td>\n",
              "      <td>0.0</td>\n",
              "      <td>0.0</td>\n",
              "      <td>0.0</td>\n",
              "      <td>0.0</td>\n",
              "      <td>0.0</td>\n",
              "      <td>0.0</td>\n",
              "      <td>0.0</td>\n",
              "      <td>0.0</td>\n",
              "      <td>0.0</td>\n",
              "      <td>0.0</td>\n",
              "      <td>0.0</td>\n",
              "      <td>0.0</td>\n",
              "      <td>0.0</td>\n",
              "      <td>0.0</td>\n",
              "      <td>1.122705</td>\n",
              "      <td>3.341928</td>\n",
              "      <td>3.564612</td>\n",
              "      <td>2.842436</td>\n",
              "      <td>4.516574</td>\n",
              "      <td>...</td>\n",
              "      <td>25.461573</td>\n",
              "      <td>21.415925</td>\n",
              "      <td>18.271187</td>\n",
              "      <td>15.936661</td>\n",
              "      <td>11.771956</td>\n",
              "      <td>6.268473</td>\n",
              "      <td>5.191357</td>\n",
              "      <td>1.810122</td>\n",
              "      <td>0.0</td>\n",
              "      <td>0.0</td>\n",
              "      <td>0.0</td>\n",
              "      <td>0.0</td>\n",
              "      <td>0.0</td>\n",
              "      <td>0.0</td>\n",
              "      <td>0.0</td>\n",
              "      <td>0.0</td>\n",
              "      <td>0.0</td>\n",
              "      <td>2.571097</td>\n",
              "      <td>5.202335</td>\n",
              "      <td>5.129003</td>\n",
              "      <td>4.005243</td>\n",
              "      <td>1.809062</td>\n",
              "      <td>6.346785</td>\n",
              "      <td>9.142418</td>\n",
              "      <td>11.697059</td>\n",
              "      <td>9.736136</td>\n",
              "      <td>11.473459</td>\n",
              "      <td>9.573338</td>\n",
              "      <td>7.149394</td>\n",
              "      <td>4.379471</td>\n",
              "      <td>5.348662</td>\n",
              "      <td>5.800864</td>\n",
              "      <td>1.757306</td>\n",
              "      <td>0.0</td>\n",
              "      <td>0.0</td>\n",
              "      <td>0.0</td>\n",
              "      <td>0.0</td>\n",
              "      <td>0.0</td>\n",
              "      <td>0.0</td>\n",
              "      <td>0.0</td>\n",
              "    </tr>\n",
              "    <tr>\n",
              "      <th>min</th>\n",
              "      <td>0.000000</td>\n",
              "      <td>0.0</td>\n",
              "      <td>0.0</td>\n",
              "      <td>0.0</td>\n",
              "      <td>0.0</td>\n",
              "      <td>0.0</td>\n",
              "      <td>0.0</td>\n",
              "      <td>0.0</td>\n",
              "      <td>0.0</td>\n",
              "      <td>0.0</td>\n",
              "      <td>0.0</td>\n",
              "      <td>0.0</td>\n",
              "      <td>0.0</td>\n",
              "      <td>0.0</td>\n",
              "      <td>0.0</td>\n",
              "      <td>0.0</td>\n",
              "      <td>0.0</td>\n",
              "      <td>0.0</td>\n",
              "      <td>0.0</td>\n",
              "      <td>0.0</td>\n",
              "      <td>0.0</td>\n",
              "      <td>0.0</td>\n",
              "      <td>0.0</td>\n",
              "      <td>0.0</td>\n",
              "      <td>0.0</td>\n",
              "      <td>0.0</td>\n",
              "      <td>0.0</td>\n",
              "      <td>0.0</td>\n",
              "      <td>0.0</td>\n",
              "      <td>0.0</td>\n",
              "      <td>0.0</td>\n",
              "      <td>0.0</td>\n",
              "      <td>0.0</td>\n",
              "      <td>0.0</td>\n",
              "      <td>0.0</td>\n",
              "      <td>0.000000</td>\n",
              "      <td>0.000000</td>\n",
              "      <td>0.000000</td>\n",
              "      <td>0.000000</td>\n",
              "      <td>0.000000</td>\n",
              "      <td>...</td>\n",
              "      <td>0.000000</td>\n",
              "      <td>0.000000</td>\n",
              "      <td>0.000000</td>\n",
              "      <td>0.000000</td>\n",
              "      <td>0.000000</td>\n",
              "      <td>0.000000</td>\n",
              "      <td>0.000000</td>\n",
              "      <td>0.000000</td>\n",
              "      <td>0.0</td>\n",
              "      <td>0.0</td>\n",
              "      <td>0.0</td>\n",
              "      <td>0.0</td>\n",
              "      <td>0.0</td>\n",
              "      <td>0.0</td>\n",
              "      <td>0.0</td>\n",
              "      <td>0.0</td>\n",
              "      <td>0.0</td>\n",
              "      <td>0.000000</td>\n",
              "      <td>0.000000</td>\n",
              "      <td>0.000000</td>\n",
              "      <td>0.000000</td>\n",
              "      <td>0.000000</td>\n",
              "      <td>0.000000</td>\n",
              "      <td>0.000000</td>\n",
              "      <td>0.000000</td>\n",
              "      <td>0.000000</td>\n",
              "      <td>0.000000</td>\n",
              "      <td>0.000000</td>\n",
              "      <td>0.000000</td>\n",
              "      <td>0.000000</td>\n",
              "      <td>0.000000</td>\n",
              "      <td>0.000000</td>\n",
              "      <td>0.000000</td>\n",
              "      <td>0.0</td>\n",
              "      <td>0.0</td>\n",
              "      <td>0.0</td>\n",
              "      <td>0.0</td>\n",
              "      <td>0.0</td>\n",
              "      <td>0.0</td>\n",
              "      <td>0.0</td>\n",
              "    </tr>\n",
              "    <tr>\n",
              "      <th>25%</th>\n",
              "      <td>2.000000</td>\n",
              "      <td>0.0</td>\n",
              "      <td>0.0</td>\n",
              "      <td>0.0</td>\n",
              "      <td>0.0</td>\n",
              "      <td>0.0</td>\n",
              "      <td>0.0</td>\n",
              "      <td>0.0</td>\n",
              "      <td>0.0</td>\n",
              "      <td>0.0</td>\n",
              "      <td>0.0</td>\n",
              "      <td>0.0</td>\n",
              "      <td>0.0</td>\n",
              "      <td>0.0</td>\n",
              "      <td>0.0</td>\n",
              "      <td>0.0</td>\n",
              "      <td>0.0</td>\n",
              "      <td>0.0</td>\n",
              "      <td>0.0</td>\n",
              "      <td>0.0</td>\n",
              "      <td>0.0</td>\n",
              "      <td>0.0</td>\n",
              "      <td>0.0</td>\n",
              "      <td>0.0</td>\n",
              "      <td>0.0</td>\n",
              "      <td>0.0</td>\n",
              "      <td>0.0</td>\n",
              "      <td>0.0</td>\n",
              "      <td>0.0</td>\n",
              "      <td>0.0</td>\n",
              "      <td>0.0</td>\n",
              "      <td>0.0</td>\n",
              "      <td>0.0</td>\n",
              "      <td>0.0</td>\n",
              "      <td>0.0</td>\n",
              "      <td>0.000000</td>\n",
              "      <td>0.000000</td>\n",
              "      <td>0.000000</td>\n",
              "      <td>0.000000</td>\n",
              "      <td>0.000000</td>\n",
              "      <td>...</td>\n",
              "      <td>0.000000</td>\n",
              "      <td>0.000000</td>\n",
              "      <td>0.000000</td>\n",
              "      <td>0.000000</td>\n",
              "      <td>0.000000</td>\n",
              "      <td>0.000000</td>\n",
              "      <td>0.000000</td>\n",
              "      <td>0.000000</td>\n",
              "      <td>0.0</td>\n",
              "      <td>0.0</td>\n",
              "      <td>0.0</td>\n",
              "      <td>0.0</td>\n",
              "      <td>0.0</td>\n",
              "      <td>0.0</td>\n",
              "      <td>0.0</td>\n",
              "      <td>0.0</td>\n",
              "      <td>0.0</td>\n",
              "      <td>0.000000</td>\n",
              "      <td>0.000000</td>\n",
              "      <td>0.000000</td>\n",
              "      <td>0.000000</td>\n",
              "      <td>0.000000</td>\n",
              "      <td>0.000000</td>\n",
              "      <td>0.000000</td>\n",
              "      <td>0.000000</td>\n",
              "      <td>0.000000</td>\n",
              "      <td>0.000000</td>\n",
              "      <td>0.000000</td>\n",
              "      <td>0.000000</td>\n",
              "      <td>0.000000</td>\n",
              "      <td>0.000000</td>\n",
              "      <td>0.000000</td>\n",
              "      <td>0.000000</td>\n",
              "      <td>0.0</td>\n",
              "      <td>0.0</td>\n",
              "      <td>0.0</td>\n",
              "      <td>0.0</td>\n",
              "      <td>0.0</td>\n",
              "      <td>0.0</td>\n",
              "      <td>0.0</td>\n",
              "    </tr>\n",
              "    <tr>\n",
              "      <th>50%</th>\n",
              "      <td>4.000000</td>\n",
              "      <td>0.0</td>\n",
              "      <td>0.0</td>\n",
              "      <td>0.0</td>\n",
              "      <td>0.0</td>\n",
              "      <td>0.0</td>\n",
              "      <td>0.0</td>\n",
              "      <td>0.0</td>\n",
              "      <td>0.0</td>\n",
              "      <td>0.0</td>\n",
              "      <td>0.0</td>\n",
              "      <td>0.0</td>\n",
              "      <td>0.0</td>\n",
              "      <td>0.0</td>\n",
              "      <td>0.0</td>\n",
              "      <td>0.0</td>\n",
              "      <td>0.0</td>\n",
              "      <td>0.0</td>\n",
              "      <td>0.0</td>\n",
              "      <td>0.0</td>\n",
              "      <td>0.0</td>\n",
              "      <td>0.0</td>\n",
              "      <td>0.0</td>\n",
              "      <td>0.0</td>\n",
              "      <td>0.0</td>\n",
              "      <td>0.0</td>\n",
              "      <td>0.0</td>\n",
              "      <td>0.0</td>\n",
              "      <td>0.0</td>\n",
              "      <td>0.0</td>\n",
              "      <td>0.0</td>\n",
              "      <td>0.0</td>\n",
              "      <td>0.0</td>\n",
              "      <td>0.0</td>\n",
              "      <td>0.0</td>\n",
              "      <td>0.000000</td>\n",
              "      <td>0.000000</td>\n",
              "      <td>0.000000</td>\n",
              "      <td>0.000000</td>\n",
              "      <td>0.000000</td>\n",
              "      <td>...</td>\n",
              "      <td>0.000000</td>\n",
              "      <td>0.000000</td>\n",
              "      <td>0.000000</td>\n",
              "      <td>0.000000</td>\n",
              "      <td>0.000000</td>\n",
              "      <td>0.000000</td>\n",
              "      <td>0.000000</td>\n",
              "      <td>0.000000</td>\n",
              "      <td>0.0</td>\n",
              "      <td>0.0</td>\n",
              "      <td>0.0</td>\n",
              "      <td>0.0</td>\n",
              "      <td>0.0</td>\n",
              "      <td>0.0</td>\n",
              "      <td>0.0</td>\n",
              "      <td>0.0</td>\n",
              "      <td>0.0</td>\n",
              "      <td>0.000000</td>\n",
              "      <td>0.000000</td>\n",
              "      <td>0.000000</td>\n",
              "      <td>0.000000</td>\n",
              "      <td>0.000000</td>\n",
              "      <td>0.000000</td>\n",
              "      <td>0.000000</td>\n",
              "      <td>0.000000</td>\n",
              "      <td>0.000000</td>\n",
              "      <td>0.000000</td>\n",
              "      <td>0.000000</td>\n",
              "      <td>0.000000</td>\n",
              "      <td>0.000000</td>\n",
              "      <td>0.000000</td>\n",
              "      <td>0.000000</td>\n",
              "      <td>0.000000</td>\n",
              "      <td>0.0</td>\n",
              "      <td>0.0</td>\n",
              "      <td>0.0</td>\n",
              "      <td>0.0</td>\n",
              "      <td>0.0</td>\n",
              "      <td>0.0</td>\n",
              "      <td>0.0</td>\n",
              "    </tr>\n",
              "    <tr>\n",
              "      <th>75%</th>\n",
              "      <td>7.000000</td>\n",
              "      <td>0.0</td>\n",
              "      <td>0.0</td>\n",
              "      <td>0.0</td>\n",
              "      <td>0.0</td>\n",
              "      <td>0.0</td>\n",
              "      <td>0.0</td>\n",
              "      <td>0.0</td>\n",
              "      <td>0.0</td>\n",
              "      <td>0.0</td>\n",
              "      <td>0.0</td>\n",
              "      <td>0.0</td>\n",
              "      <td>0.0</td>\n",
              "      <td>0.0</td>\n",
              "      <td>0.0</td>\n",
              "      <td>0.0</td>\n",
              "      <td>0.0</td>\n",
              "      <td>0.0</td>\n",
              "      <td>0.0</td>\n",
              "      <td>0.0</td>\n",
              "      <td>0.0</td>\n",
              "      <td>0.0</td>\n",
              "      <td>0.0</td>\n",
              "      <td>0.0</td>\n",
              "      <td>0.0</td>\n",
              "      <td>0.0</td>\n",
              "      <td>0.0</td>\n",
              "      <td>0.0</td>\n",
              "      <td>0.0</td>\n",
              "      <td>0.0</td>\n",
              "      <td>0.0</td>\n",
              "      <td>0.0</td>\n",
              "      <td>0.0</td>\n",
              "      <td>0.0</td>\n",
              "      <td>0.0</td>\n",
              "      <td>0.000000</td>\n",
              "      <td>0.000000</td>\n",
              "      <td>0.000000</td>\n",
              "      <td>0.000000</td>\n",
              "      <td>0.000000</td>\n",
              "      <td>...</td>\n",
              "      <td>0.000000</td>\n",
              "      <td>0.000000</td>\n",
              "      <td>0.000000</td>\n",
              "      <td>0.000000</td>\n",
              "      <td>0.000000</td>\n",
              "      <td>0.000000</td>\n",
              "      <td>0.000000</td>\n",
              "      <td>0.000000</td>\n",
              "      <td>0.0</td>\n",
              "      <td>0.0</td>\n",
              "      <td>0.0</td>\n",
              "      <td>0.0</td>\n",
              "      <td>0.0</td>\n",
              "      <td>0.0</td>\n",
              "      <td>0.0</td>\n",
              "      <td>0.0</td>\n",
              "      <td>0.0</td>\n",
              "      <td>0.000000</td>\n",
              "      <td>0.000000</td>\n",
              "      <td>0.000000</td>\n",
              "      <td>0.000000</td>\n",
              "      <td>0.000000</td>\n",
              "      <td>0.000000</td>\n",
              "      <td>0.000000</td>\n",
              "      <td>0.000000</td>\n",
              "      <td>0.000000</td>\n",
              "      <td>0.000000</td>\n",
              "      <td>0.000000</td>\n",
              "      <td>0.000000</td>\n",
              "      <td>0.000000</td>\n",
              "      <td>0.000000</td>\n",
              "      <td>0.000000</td>\n",
              "      <td>0.000000</td>\n",
              "      <td>0.0</td>\n",
              "      <td>0.0</td>\n",
              "      <td>0.0</td>\n",
              "      <td>0.0</td>\n",
              "      <td>0.0</td>\n",
              "      <td>0.0</td>\n",
              "      <td>0.0</td>\n",
              "    </tr>\n",
              "    <tr>\n",
              "      <th>max</th>\n",
              "      <td>9.000000</td>\n",
              "      <td>0.0</td>\n",
              "      <td>0.0</td>\n",
              "      <td>0.0</td>\n",
              "      <td>0.0</td>\n",
              "      <td>0.0</td>\n",
              "      <td>0.0</td>\n",
              "      <td>0.0</td>\n",
              "      <td>0.0</td>\n",
              "      <td>0.0</td>\n",
              "      <td>0.0</td>\n",
              "      <td>0.0</td>\n",
              "      <td>0.0</td>\n",
              "      <td>0.0</td>\n",
              "      <td>0.0</td>\n",
              "      <td>0.0</td>\n",
              "      <td>0.0</td>\n",
              "      <td>0.0</td>\n",
              "      <td>0.0</td>\n",
              "      <td>0.0</td>\n",
              "      <td>0.0</td>\n",
              "      <td>0.0</td>\n",
              "      <td>0.0</td>\n",
              "      <td>0.0</td>\n",
              "      <td>0.0</td>\n",
              "      <td>0.0</td>\n",
              "      <td>0.0</td>\n",
              "      <td>0.0</td>\n",
              "      <td>0.0</td>\n",
              "      <td>0.0</td>\n",
              "      <td>0.0</td>\n",
              "      <td>0.0</td>\n",
              "      <td>0.0</td>\n",
              "      <td>0.0</td>\n",
              "      <td>0.0</td>\n",
              "      <td>85.000000</td>\n",
              "      <td>253.000000</td>\n",
              "      <td>227.000000</td>\n",
              "      <td>132.000000</td>\n",
              "      <td>253.000000</td>\n",
              "      <td>...</td>\n",
              "      <td>255.000000</td>\n",
              "      <td>254.000000</td>\n",
              "      <td>255.000000</td>\n",
              "      <td>255.000000</td>\n",
              "      <td>254.000000</td>\n",
              "      <td>254.000000</td>\n",
              "      <td>253.000000</td>\n",
              "      <td>137.000000</td>\n",
              "      <td>0.0</td>\n",
              "      <td>0.0</td>\n",
              "      <td>0.0</td>\n",
              "      <td>0.0</td>\n",
              "      <td>0.0</td>\n",
              "      <td>0.0</td>\n",
              "      <td>0.0</td>\n",
              "      <td>0.0</td>\n",
              "      <td>0.0</td>\n",
              "      <td>177.000000</td>\n",
              "      <td>231.000000</td>\n",
              "      <td>253.000000</td>\n",
              "      <td>254.000000</td>\n",
              "      <td>104.000000</td>\n",
              "      <td>253.000000</td>\n",
              "      <td>253.000000</td>\n",
              "      <td>254.000000</td>\n",
              "      <td>253.000000</td>\n",
              "      <td>255.000000</td>\n",
              "      <td>253.000000</td>\n",
              "      <td>251.000000</td>\n",
              "      <td>252.000000</td>\n",
              "      <td>253.000000</td>\n",
              "      <td>253.000000</td>\n",
              "      <td>130.000000</td>\n",
              "      <td>0.0</td>\n",
              "      <td>0.0</td>\n",
              "      <td>0.0</td>\n",
              "      <td>0.0</td>\n",
              "      <td>0.0</td>\n",
              "      <td>0.0</td>\n",
              "      <td>0.0</td>\n",
              "    </tr>\n",
              "  </tbody>\n",
              "</table>\n",
              "<p>8 rows × 785 columns</p>\n",
              "</div>"
            ],
            "text/plain": [
              "             label  pixel0  pixel1  ...  pixel781  pixel782  pixel783\n",
              "count  5732.000000  5732.0  5732.0  ...    5731.0    5731.0    5731.0\n",
              "mean      4.438765     0.0     0.0  ...       0.0       0.0       0.0\n",
              "std       2.878433     0.0     0.0  ...       0.0       0.0       0.0\n",
              "min       0.000000     0.0     0.0  ...       0.0       0.0       0.0\n",
              "25%       2.000000     0.0     0.0  ...       0.0       0.0       0.0\n",
              "50%       4.000000     0.0     0.0  ...       0.0       0.0       0.0\n",
              "75%       7.000000     0.0     0.0  ...       0.0       0.0       0.0\n",
              "max       9.000000     0.0     0.0  ...       0.0       0.0       0.0\n",
              "\n",
              "[8 rows x 785 columns]"
            ]
          },
          "metadata": {},
          "execution_count": 24
        }
      ]
    },
    {
      "cell_type": "markdown",
      "metadata": {
        "id": "wDNVfePGwL3r"
      },
      "source": [
        "###Checking for Null values"
      ]
    },
    {
      "cell_type": "code",
      "metadata": {
        "colab": {
          "base_uri": "https://localhost:8080/"
        },
        "id": "sFy2vLt3wRBh",
        "outputId": "04a30a43-2784-42ac-ea65-6217f232cb83"
      },
      "source": [
        "df1.isnull().sum()"
      ],
      "execution_count": 25,
      "outputs": [
        {
          "output_type": "execute_result",
          "data": {
            "text/plain": [
              "label       0\n",
              "pixel0      0\n",
              "pixel1      0\n",
              "pixel2      0\n",
              "pixel3      0\n",
              "           ..\n",
              "pixel779    1\n",
              "pixel780    1\n",
              "pixel781    1\n",
              "pixel782    1\n",
              "pixel783    1\n",
              "Length: 785, dtype: int64"
            ]
          },
          "metadata": {},
          "execution_count": 25
        }
      ]
    },
    {
      "cell_type": "markdown",
      "metadata": {
        "id": "Y-BEHDtYwYCj"
      },
      "source": [
        "###Filling value in Null Values"
      ]
    },
    {
      "cell_type": "code",
      "metadata": {
        "id": "jNKHy_yfwiLh"
      },
      "source": [
        "df1.fillna(0, inplace=True)"
      ],
      "execution_count": 26,
      "outputs": []
    },
    {
      "cell_type": "markdown",
      "metadata": {
        "id": "_1ITv3lcPR3h"
      },
      "source": [
        "###Info about Label"
      ]
    },
    {
      "cell_type": "code",
      "metadata": {
        "id": "m3gTG_D-PKYo",
        "colab": {
          "base_uri": "https://localhost:8080/"
        },
        "outputId": "80f1980e-4e89-45c6-97d2-4af7492a0894"
      },
      "source": [
        "import numpy as np\n",
        "order = list(np.sort(df1['label'].unique()))\n",
        "print(order)"
      ],
      "execution_count": 27,
      "outputs": [
        {
          "output_type": "stream",
          "name": "stdout",
          "text": [
            "[0, 1, 2, 3, 4, 5, 6, 7, 8, 9]\n"
          ]
        }
      ]
    },
    {
      "cell_type": "markdown",
      "metadata": {
        "id": "QdnWHKSuP4Mq"
      },
      "source": [
        "####Visualising Label"
      ]
    },
    {
      "cell_type": "code",
      "metadata": {
        "id": "mICDJoFzPkDk",
        "colab": {
          "base_uri": "https://localhost:8080/",
          "height": 279
        },
        "outputId": "c003af7e-7a90-42f7-ef9a-22cdde0b6c35"
      },
      "source": [
        "import matplotlib.pyplot as plt\n",
        "import seaborn as sns ## Visualizing the number of class and counts in the datasets\n",
        "\n",
        "sns.countplot(x=\"label\",data=df1)\n",
        "plt.show()\n"
      ],
      "execution_count": 28,
      "outputs": [
        {
          "output_type": "display_data",
          "data": {
            "image/png": "[encoded data removed]",
            "text/plain": [
              "<Figure size 432x288 with 1 Axes>"
            ]
          },
          "metadata": {
            "needs_background": "light"
          }
        }
      ]
    },
    {
      "cell_type": "markdown",
      "metadata": {
        "id": "QgYvFqCXQXAS"
      },
      "source": [
        "####Visualizing the number of class and counts in the datasets"
      ]
    },
    {
      "cell_type": "code",
      "metadata": {
        "id": "sPPtZsR5QFSM",
        "colab": {
          "base_uri": "https://localhost:8080/",
          "height": 480
        },
        "outputId": "96b144d2-302d-4d3a-e6dc-b9438308aae5"
      },
      "source": [
        "## Visualizing the number of class and counts in the datasets\n",
        "plt.plot(figure = (16,10))\n",
        "g = sns.countplot( x=\"label\",data=df1, palette = 'icefire')\n",
        "plt.title('NUmber of digit classes')\n",
        "df1.label.astype('category').value_counts()"
      ],
      "execution_count": 29,
      "outputs": [
        {
          "output_type": "execute_result",
          "data": {
            "text/plain": [
              "1    629\n",
              "2    626\n",
              "7    585\n",
              "6    584\n",
              "4    562\n",
              "9    560\n",
              "0    560\n",
              "3    551\n",
              "8    549\n",
              "5    526\n",
              "Name: label, dtype: int64"
            ]
          },
          "metadata": {},
          "execution_count": 29
        },
        {
          "output_type": "display_data",
          "data": {
            "image/png": "[encoded data removed]",
            "text/plain": [
              "<Figure size 432x288 with 1 Axes>"
            ]
          },
          "metadata": {
            "needs_background": "light"
          }
        }
      ]
    },
    {
      "cell_type": "markdown",
      "metadata": {
        "id": "XXorU7hBQoad"
      },
      "source": [
        "###Divide into input and output variables"
      ]
    },
    {
      "cell_type": "code",
      "metadata": {
        "id": "ZL_E9tt8QgsG"
      },
      "source": [
        "x=df1.iloc[:,1:-1]\n",
        "y=df1.iloc[:,0]"
      ],
      "execution_count": 30,
      "outputs": []
    },
    {
      "cell_type": "markdown",
      "metadata": {
        "id": "9DuBZlw5Q4-P"
      },
      "source": [
        "###Train and test variables"
      ]
    },
    {
      "cell_type": "code",
      "metadata": {
        "id": "qPGOGCBXQ0py"
      },
      "source": [
        "from sklearn.model_selection import train_test_split\n",
        "trainx,testx,trainy,testy=train_test_split(x,y,test_size=0.2,random_state=0)"
      ],
      "execution_count": 31,
      "outputs": []
    },
    {
      "cell_type": "markdown",
      "metadata": {
        "id": "qmSPXTqkRZ-K"
      },
      "source": [
        "###Standardizing the Data"
      ]
    },
    {
      "cell_type": "code",
      "metadata": {
        "id": "lXeTbwZ1Q--G"
      },
      "source": [
        "from sklearn.preprocessing import StandardScaler\n",
        "sc=StandardScaler()\n",
        "trainx=sc.fit_transform(trainx)\n",
        "testx=sc.fit_transform(testx)"
      ],
      "execution_count": 32,
      "outputs": []
    },
    {
      "cell_type": "markdown",
      "metadata": {
        "id": "_p57hRT5Rwis"
      },
      "source": [
        "###Run a classifier and fit the model"
      ]
    },
    {
      "cell_type": "code",
      "metadata": {
        "id": "kozCyOWLRhyq",
        "colab": {
          "base_uri": "https://localhost:8080/"
        },
        "outputId": "b8614aa8-42a5-4952-c4f7-08551f8012b4"
      },
      "source": [
        "from sklearn.svm import SVC\n",
        "svc=SVC( kernel=\"rbf\",random_state=0)\n",
        "svc.fit(trainx,trainy)"
      ],
      "execution_count": 33,
      "outputs": [
        {
          "output_type": "execute_result",
          "data": {
            "text/plain": [
              "SVC(C=1.0, break_ties=False, cache_size=200, class_weight=None, coef0=0.0,\n",
              "    decision_function_shape='ovr', degree=3, gamma='scale', kernel='rbf',\n",
              "    max_iter=-1, probability=False, random_state=0, shrinking=True, tol=0.001,\n",
              "    verbose=False)"
            ]
          },
          "metadata": {},
          "execution_count": 33
        }
      ]
    },
    {
      "cell_type": "markdown",
      "metadata": {
        "id": "DZwz4u2dSByw"
      },
      "source": [
        "###Predicting the model"
      ]
    },
    {
      "cell_type": "code",
      "metadata": {
        "id": "8JmO0iz1b5nm"
      },
      "source": [
        "predy=svc.predict(testx)"
      ],
      "execution_count": 34,
      "outputs": []
    },
    {
      "cell_type": "markdown",
      "metadata": {
        "id": "FXYC99mKs7Ms"
      },
      "source": [
        "###Checking Accuracy"
      ]
    },
    {
      "cell_type": "code",
      "metadata": {
        "id": "SgKqgOA1dqFU",
        "colab": {
          "base_uri": "https://localhost:8080/"
        },
        "outputId": "4c6eacc8-dc7d-4cac-802e-ed318ac910e1"
      },
      "source": [
        "from sklearn.metrics import accuracy_score\n",
        "a=accuracy_score(testy,predy)\n",
        "print(\"Accuracy score of SVM:\",a)"
      ],
      "execution_count": 46,
      "outputs": [
        {
          "output_type": "stream",
          "name": "stdout",
          "text": [
            "Accuracy score of SVM: 0.9197907585004359\n"
          ]
        }
      ]
    },
    {
      "cell_type": "markdown",
      "metadata": {
        "id": "VYKWQ8--TvyM"
      },
      "source": [
        "###Using another Classifier"
      ]
    },
    {
      "cell_type": "markdown",
      "metadata": {
        "id": "gEqKTi6FUkr8"
      },
      "source": [
        "####Running a Classifier and training the model"
      ]
    },
    {
      "cell_type": "code",
      "metadata": {
        "id": "6kAC-5yqtI-i",
        "colab": {
          "base_uri": "https://localhost:8080/"
        },
        "outputId": "698768cb-e413-4427-f371-0c148507adf9"
      },
      "source": [
        "from sklearn.tree import DecisionTreeClassifier #Using decision tree classifier\n",
        "dct=DecisionTreeClassifier()\n",
        "dct.fit(trainx,trainy)"
      ],
      "execution_count": 37,
      "outputs": [
        {
          "output_type": "execute_result",
          "data": {
            "text/plain": [
              "DecisionTreeClassifier(ccp_alpha=0.0, class_weight=None, criterion='gini',\n",
              "                       max_depth=None, max_features=None, max_leaf_nodes=None,\n",
              "                       min_impurity_decrease=0.0, min_impurity_split=None,\n",
              "                       min_samples_leaf=1, min_samples_split=2,\n",
              "                       min_weight_fraction_leaf=0.0, presort='deprecated',\n",
              "                       random_state=None, splitter='best')"
            ]
          },
          "metadata": {},
          "execution_count": 37
        }
      ]
    },
    {
      "cell_type": "markdown",
      "metadata": {
        "id": "kiUgxPLfUtr3"
      },
      "source": [
        "####Predicting using DecisionTreeClassifier"
      ]
    },
    {
      "cell_type": "code",
      "metadata": {
        "id": "1NTHKqZvUHQj"
      },
      "source": [
        "predy_dct=dct.predict(testx)"
      ],
      "execution_count": 38,
      "outputs": []
    },
    {
      "cell_type": "markdown",
      "metadata": {
        "id": "vUcyxekOU3V_"
      },
      "source": [
        "####Checking accuracy score Of DecisionTreeClassifier"
      ]
    },
    {
      "cell_type": "code",
      "metadata": {
        "colab": {
          "base_uri": "https://localhost:8080/"
        },
        "id": "jUgaA6CfUbtj",
        "outputId": "95d2ecd6-22f1-4374-de61-72fdb22ecc04"
      },
      "source": [
        "b=accuracy_score(testy,predy_dct)\n",
        "print(\"Accuracy score of DecisionTree classifier\",b)"
      ],
      "execution_count": 47,
      "outputs": [
        {
          "output_type": "stream",
          "name": "stdout",
          "text": [
            "Accuracy score of DecisionTree classifier 0.5518744551002616\n"
          ]
        }
      ]
    },
    {
      "cell_type": "markdown",
      "metadata": {
        "id": "sJQNV7RONUxp"
      },
      "source": [
        "###Comparing accuracy of SVM and DecisionTree classifier"
      ]
    },
    {
      "cell_type": "code",
      "metadata": {
        "colab": {
          "base_uri": "https://localhost:8080/"
        },
        "id": "DWG-3YgLNAro",
        "outputId": "cba81305-f8e7-4c1b-b574-4ca48f131280"
      },
      "source": [
        "print(\"Accuracy score of SVM:\",a)\n",
        "print(\"Accuracy score of DecisionTree classifier\",b)\n",
        "max(a,b)"
      ],
      "execution_count": 48,
      "outputs": [
        {
          "output_type": "stream",
          "name": "stdout",
          "text": [
            "Accuracy score of SVM: 0.9197907585004359\n",
            "Accuracy score of DecisionTree classifier 0.5518744551002616\n"
          ]
        },
        {
          "output_type": "execute_result",
          "data": {
            "text/plain": [
              "0.9197907585004359"
            ]
          },
          "metadata": {},
          "execution_count": 48
        }
      ]
    },
    {
      "cell_type": "markdown",
      "metadata": {
        "id": "6JHyCl4YHlYY"
      },
      "source": [
        "We see that Accuracy score is more with SVM as compared to DecisionTreeClassifer.So we should use SVM for better Model."
      ]
    },
    {
      "cell_type": "markdown",
      "metadata": {
        "id": "4bfe-CP_Vtge"
      },
      "source": [
        "### Plotting some samples as well as converting into matrix"
      ]
    },
    {
      "cell_type": "code",
      "metadata": {
        "colab": {
          "base_uri": "https://localhost:8080/",
          "height": 298
        },
        "id": "RAv7KY-UUhGQ",
        "outputId": "7607daf5-fcf7-4f12-bf52-e8b8b0f4b292"
      },
      "source": [
        "dig = df1.iloc[1, 1:]\n",
        "dig.shape\n",
        "dig = dig.values.reshape(28,28)\n",
        "plt.imshow(dig, cmap='gray')\n",
        "plt.title(\"Digit\")"
      ],
      "execution_count": 40,
      "outputs": [
        {
          "output_type": "execute_result",
          "data": {
            "text/plain": [
              "Text(0.5, 1.0, 'Digit')"
            ]
          },
          "metadata": {},
          "execution_count": 40
        },
        {
          "output_type": "display_data",
          "data": {
            "image/png": "[encoded data removed]",
            "text/plain": [
              "<Figure size 432x288 with 1 Axes>"
            ]
          },
          "metadata": {
            "needs_background": "light"
          }
        }
      ]
    },
    {
      "cell_type": "code",
      "metadata": {
        "colab": {
          "base_uri": "https://localhost:8080/",
          "height": 298
        },
        "id": "H8JDiVgXV5uT",
        "outputId": "f6f602e6-5be0-4175-c559-33728a8cb9dc"
      },
      "source": [
        "dig = df1.iloc[2, 1:]\n",
        "dig.shape\n",
        "dig = dig.values.reshape(28,28)\n",
        "plt.imshow(dig, cmap='gray')\n",
        "plt.title(\"Digit\")"
      ],
      "execution_count": 41,
      "outputs": [
        {
          "output_type": "execute_result",
          "data": {
            "text/plain": [
              "Text(0.5, 1.0, 'Digit')"
            ]
          },
          "metadata": {},
          "execution_count": 41
        },
        {
          "output_type": "display_data",
          "data": {
            "image/png": "[encoded data removed]",
            "text/plain": [
              "<Figure size 432x288 with 1 Axes>"
            ]
          },
          "metadata": {
            "needs_background": "light"
          }
        }
      ]
    },
    {
      "cell_type": "code",
      "metadata": {
        "colab": {
          "base_uri": "https://localhost:8080/",
          "height": 298
        },
        "id": "tTjxORElWeNi",
        "outputId": "df25a235-198f-4557-ed46-9156e24e0941"
      },
      "source": [
        "dig = df1.iloc[14, 1:]\n",
        "dig.shape\n",
        "dig = dig.values.reshape(28,28)\n",
        "plt.imshow(dig, cmap='gray')\n",
        "plt.title(\"Digit\")"
      ],
      "execution_count": 42,
      "outputs": [
        {
          "output_type": "execute_result",
          "data": {
            "text/plain": [
              "Text(0.5, 1.0, 'Digit')"
            ]
          },
          "metadata": {},
          "execution_count": 42
        },
        {
          "output_type": "display_data",
          "data": {
            "image/png": "[encoded data removed]",
            "text/plain": [
              "<Figure size 432x288 with 1 Axes>"
            ]
          },
          "metadata": {
            "needs_background": "light"
          }
        }
      ]
    },
    {
      "cell_type": "code",
      "metadata": {
        "id": "IYKgBIzTWhnO"
      },
      "source": [
        ""
      ],
      "execution_count": 42,
      "outputs": []
    }
  ]
}